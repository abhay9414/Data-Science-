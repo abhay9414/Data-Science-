{
 "cells": [
  {
   "cell_type": "code",
   "execution_count": 2,
   "metadata": {},
   "outputs": [],
   "source": [
    "import pandas as pd"
   ]
  },
  {
   "cell_type": "markdown",
   "metadata": {},
   "source": [
    "#Read CSV File of Major League Baseball Salaries(mlbsalaries.csv)\n"
   ]
  },
  {
   "cell_type": "code",
   "execution_count": 3,
   "metadata": {},
   "outputs": [],
   "source": [
    "df = pd.read_csv('dataset/mlbsalaries.csv')"
   ]
  },
  {
   "cell_type": "code",
   "execution_count": 3,
   "metadata": {},
   "outputs": [
    {
     "data": {
      "text/plain": [
       "(19543, 5)"
      ]
     },
     "execution_count": 3,
     "metadata": {},
     "output_type": "execute_result"
    }
   ],
   "source": [
    "df.shape"
   ]
  },
  {
   "cell_type": "code",
   "execution_count": 4,
   "metadata": {},
   "outputs": [
    {
     "data": {
      "text/html": [
       "<div>\n",
       "<style>\n",
       "    .dataframe thead tr:only-child th {\n",
       "        text-align: right;\n",
       "    }\n",
       "\n",
       "    .dataframe thead th {\n",
       "        text-align: left;\n",
       "    }\n",
       "\n",
       "    .dataframe tbody tr th {\n",
       "        vertical-align: top;\n",
       "    }\n",
       "</style>\n",
       "<table border=\"1\" class=\"dataframe\">\n",
       "  <thead>\n",
       "    <tr style=\"text-align: right;\">\n",
       "      <th></th>\n",
       "      <th>Year</th>\n",
       "      <th>Player</th>\n",
       "      <th>Salary</th>\n",
       "      <th>Position</th>\n",
       "      <th>Team</th>\n",
       "    </tr>\n",
       "  </thead>\n",
       "  <tbody>\n",
       "    <tr>\n",
       "      <th>0</th>\n",
       "      <td>1988</td>\n",
       "      <td>Mike Witt</td>\n",
       "      <td>1400000</td>\n",
       "      <td>Pitcher</td>\n",
       "      <td>Los Angeles Angels</td>\n",
       "    </tr>\n",
       "    <tr>\n",
       "      <th>1</th>\n",
       "      <td>1988</td>\n",
       "      <td>George Hendrick</td>\n",
       "      <td>989333</td>\n",
       "      <td>Outfielder</td>\n",
       "      <td>Los Angeles Angels</td>\n",
       "    </tr>\n",
       "    <tr>\n",
       "      <th>2</th>\n",
       "      <td>1988</td>\n",
       "      <td>Chili Davis</td>\n",
       "      <td>950000</td>\n",
       "      <td>Outfielder</td>\n",
       "      <td>Los Angeles Angels</td>\n",
       "    </tr>\n",
       "    <tr>\n",
       "      <th>3</th>\n",
       "      <td>1988</td>\n",
       "      <td>Brian Downing</td>\n",
       "      <td>900000</td>\n",
       "      <td>Designated Hitter</td>\n",
       "      <td>Los Angeles Angels</td>\n",
       "    </tr>\n",
       "    <tr>\n",
       "      <th>4</th>\n",
       "      <td>1988</td>\n",
       "      <td>Bob Boone</td>\n",
       "      <td>883000</td>\n",
       "      <td>Catcher</td>\n",
       "      <td>Los Angeles Angels</td>\n",
       "    </tr>\n",
       "  </tbody>\n",
       "</table>\n",
       "</div>"
      ],
      "text/plain": [
       "   Year           Player   Salary           Position                Team\n",
       "0  1988        Mike Witt  1400000            Pitcher  Los Angeles Angels\n",
       "1  1988  George Hendrick   989333         Outfielder  Los Angeles Angels\n",
       "2  1988      Chili Davis   950000         Outfielder  Los Angeles Angels\n",
       "3  1988    Brian Downing   900000  Designated Hitter  Los Angeles Angels\n",
       "4  1988        Bob Boone   883000            Catcher  Los Angeles Angels"
      ]
     },
     "execution_count": 4,
     "metadata": {},
     "output_type": "execute_result"
    }
   ],
   "source": [
    "df.head()"
   ]
  },
  {
   "cell_type": "markdown",
   "metadata": {},
   "source": [
    "#### value_counts() is used to identify unique values and their counts"
   ]
  },
  {
   "cell_type": "code",
   "execution_count": 5,
   "metadata": {},
   "outputs": [
    {
     "data": {
      "text/plain": [
       "1990    972\n",
       "1999    919\n",
       "2008    858\n",
       "2001    857\n",
       "2002    849\n",
       "2007    848\n",
       "1998    846\n",
       "2011    843\n",
       "2000    843\n",
       "2004    833\n",
       "2005    831\n",
       "2010    828\n",
       "2003    826\n",
       "2006    823\n",
       "2009    818\n",
       "1995    805\n",
       "1993    786\n",
       "1997    773\n",
       "1996    768\n",
       "1992    753\n",
       "1994    748\n",
       "1991    720\n",
       "1989    710\n",
       "1988    686\n",
       "Name: Year, dtype: int64"
      ]
     },
     "execution_count": 5,
     "metadata": {},
     "output_type": "execute_result"
    }
   ],
   "source": [
    "df.Year.value_counts()\n",
    "\n",
    "#similarly we can get info about unique teams and their counts\n",
    "#df.Team.value_counts()\n",
    "\n",
    "#similarly with Position\n",
    "#df.Position.value_counts()"
   ]
  },
  {
   "cell_type": "markdown",
   "metadata": {},
   "source": [
    "#### retrieve information for year 2010"
   ]
  },
  {
   "cell_type": "code",
   "execution_count": 6,
   "metadata": {
    "collapsed": true
   },
   "outputs": [],
   "source": [
    "yr_2010 = df[df.Year == 2010]"
   ]
  },
  {
   "cell_type": "code",
   "execution_count": 7,
   "metadata": {},
   "outputs": [
    {
     "data": {
      "text/plain": [
       "(828, 5)"
      ]
     },
     "execution_count": 7,
     "metadata": {},
     "output_type": "execute_result"
    }
   ],
   "source": [
    "yr_2010.shape"
   ]
  },
  {
   "cell_type": "code",
   "execution_count": 8,
   "metadata": {},
   "outputs": [
    {
     "data": {
      "text/html": [
       "<div>\n",
       "<style>\n",
       "    .dataframe thead tr:only-child th {\n",
       "        text-align: right;\n",
       "    }\n",
       "\n",
       "    .dataframe thead th {\n",
       "        text-align: left;\n",
       "    }\n",
       "\n",
       "    .dataframe tbody tr th {\n",
       "        vertical-align: top;\n",
       "    }\n",
       "</style>\n",
       "<table border=\"1\" class=\"dataframe\">\n",
       "  <thead>\n",
       "    <tr style=\"text-align: right;\">\n",
       "      <th></th>\n",
       "      <th>Year</th>\n",
       "      <th>Player</th>\n",
       "      <th>Salary</th>\n",
       "      <th>Position</th>\n",
       "      <th>Team</th>\n",
       "    </tr>\n",
       "  </thead>\n",
       "  <tbody>\n",
       "    <tr>\n",
       "      <th>17872</th>\n",
       "      <td>2010</td>\n",
       "      <td>Torii Hunter</td>\n",
       "      <td>18500000</td>\n",
       "      <td>Outfielder</td>\n",
       "      <td>Los Angeles Angels</td>\n",
       "    </tr>\n",
       "    <tr>\n",
       "      <th>17873</th>\n",
       "      <td>2010</td>\n",
       "      <td>Bobby Abreu</td>\n",
       "      <td>9000000</td>\n",
       "      <td>Outfielder</td>\n",
       "      <td>Los Angeles Angels</td>\n",
       "    </tr>\n",
       "    <tr>\n",
       "      <th>17874</th>\n",
       "      <td>2010</td>\n",
       "      <td>Brian Fuentes</td>\n",
       "      <td>9000000</td>\n",
       "      <td>Pitcher</td>\n",
       "      <td>Los Angeles Angels</td>\n",
       "    </tr>\n",
       "    <tr>\n",
       "      <th>17875</th>\n",
       "      <td>2010</td>\n",
       "      <td>Scott Kazmir</td>\n",
       "      <td>8000000</td>\n",
       "      <td>Pitcher</td>\n",
       "      <td>Los Angeles Angels</td>\n",
       "    </tr>\n",
       "    <tr>\n",
       "      <th>17876</th>\n",
       "      <td>2010</td>\n",
       "      <td>Joel Pineiro</td>\n",
       "      <td>8000000</td>\n",
       "      <td>Pitcher</td>\n",
       "      <td>Los Angeles Angels</td>\n",
       "    </tr>\n",
       "  </tbody>\n",
       "</table>\n",
       "</div>"
      ],
      "text/plain": [
       "       Year         Player    Salary    Position                Team\n",
       "17872  2010   Torii Hunter  18500000  Outfielder  Los Angeles Angels\n",
       "17873  2010    Bobby Abreu   9000000  Outfielder  Los Angeles Angels\n",
       "17874  2010  Brian Fuentes   9000000     Pitcher  Los Angeles Angels\n",
       "17875  2010   Scott Kazmir   8000000     Pitcher  Los Angeles Angels\n",
       "17876  2010   Joel Pineiro   8000000     Pitcher  Los Angeles Angels"
      ]
     },
     "execution_count": 8,
     "metadata": {},
     "output_type": "execute_result"
    }
   ],
   "source": [
    "yr_2010.head()"
   ]
  },
  {
   "cell_type": "markdown",
   "metadata": {},
   "source": [
    "#### sort rows on the basis of player name in alphabatic order"
   ]
  },
  {
   "cell_type": "code",
   "execution_count": 9,
   "metadata": {},
   "outputs": [
    {
     "data": {
      "text/html": [
       "<div>\n",
       "<style>\n",
       "    .dataframe thead tr:only-child th {\n",
       "        text-align: right;\n",
       "    }\n",
       "\n",
       "    .dataframe thead th {\n",
       "        text-align: left;\n",
       "    }\n",
       "\n",
       "    .dataframe tbody tr th {\n",
       "        vertical-align: top;\n",
       "    }\n",
       "</style>\n",
       "<table border=\"1\" class=\"dataframe\">\n",
       "  <thead>\n",
       "    <tr style=\"text-align: right;\">\n",
       "      <th></th>\n",
       "      <th>Year</th>\n",
       "      <th>Player</th>\n",
       "      <th>Salary</th>\n",
       "      <th>Position</th>\n",
       "      <th>Team</th>\n",
       "    </tr>\n",
       "  </thead>\n",
       "  <tbody>\n",
       "    <tr>\n",
       "      <th>18679</th>\n",
       "      <td>2010</td>\n",
       "      <td>A.J. Burnett</td>\n",
       "      <td>16500000</td>\n",
       "      <td>Pitcher</td>\n",
       "      <td>New York Yankees</td>\n",
       "    </tr>\n",
       "    <tr>\n",
       "      <th>18655</th>\n",
       "      <td>2010</td>\n",
       "      <td>A.J. Pierzynski</td>\n",
       "      <td>6750000</td>\n",
       "      <td>Catcher</td>\n",
       "      <td>Chicago White Sox</td>\n",
       "    </tr>\n",
       "    <tr>\n",
       "      <th>18540</th>\n",
       "      <td>2010</td>\n",
       "      <td>Aaron Cook</td>\n",
       "      <td>9625000</td>\n",
       "      <td>Pitcher</td>\n",
       "      <td>Colorado Rockies</td>\n",
       "    </tr>\n",
       "    <tr>\n",
       "      <th>18484</th>\n",
       "      <td>2010</td>\n",
       "      <td>Aaron Harang</td>\n",
       "      <td>12500000</td>\n",
       "      <td>Pitcher</td>\n",
       "      <td>Cincinnati Reds</td>\n",
       "    </tr>\n",
       "    <tr>\n",
       "      <th>18108</th>\n",
       "      <td>2010</td>\n",
       "      <td>Aaron Heilman</td>\n",
       "      <td>2150000</td>\n",
       "      <td>Pitcher</td>\n",
       "      <td>Arizona Diamondbacks</td>\n",
       "    </tr>\n",
       "  </tbody>\n",
       "</table>\n",
       "</div>"
      ],
      "text/plain": [
       "       Year           Player    Salary Position                  Team\n",
       "18679  2010     A.J. Burnett  16500000  Pitcher      New York Yankees\n",
       "18655  2010  A.J. Pierzynski   6750000  Catcher     Chicago White Sox\n",
       "18540  2010       Aaron Cook   9625000  Pitcher      Colorado Rockies\n",
       "18484  2010     Aaron Harang  12500000  Pitcher       Cincinnati Reds\n",
       "18108  2010    Aaron Heilman   2150000  Pitcher  Arizona Diamondbacks"
      ]
     },
     "execution_count": 9,
     "metadata": {},
     "output_type": "execute_result"
    }
   ],
   "source": [
    "yr_2010.sort_values('Player').head()"
   ]
  },
  {
   "cell_type": "markdown",
   "metadata": {},
   "source": [
    "#### sort column labels"
   ]
  },
  {
   "cell_type": "code",
   "execution_count": 35,
   "metadata": {},
   "outputs": [
    {
     "data": {
      "text/html": [
       "<div>\n",
       "<style>\n",
       "    .dataframe thead tr:only-child th {\n",
       "        text-align: right;\n",
       "    }\n",
       "\n",
       "    .dataframe thead th {\n",
       "        text-align: left;\n",
       "    }\n",
       "\n",
       "    .dataframe tbody tr th {\n",
       "        vertical-align: top;\n",
       "    }\n",
       "</style>\n",
       "<table border=\"1\" class=\"dataframe\">\n",
       "  <thead>\n",
       "    <tr style=\"text-align: right;\">\n",
       "      <th></th>\n",
       "      <th>Player</th>\n",
       "      <th>Position</th>\n",
       "      <th>Salary</th>\n",
       "      <th>Team</th>\n",
       "      <th>Year</th>\n",
       "    </tr>\n",
       "  </thead>\n",
       "  <tbody>\n",
       "    <tr>\n",
       "      <th>17872</th>\n",
       "      <td>Torii Hunter</td>\n",
       "      <td>Outfielder</td>\n",
       "      <td>18500000</td>\n",
       "      <td>Los Angeles Angels</td>\n",
       "      <td>2010</td>\n",
       "    </tr>\n",
       "    <tr>\n",
       "      <th>17873</th>\n",
       "      <td>Bobby Abreu</td>\n",
       "      <td>Outfielder</td>\n",
       "      <td>9000000</td>\n",
       "      <td>Los Angeles Angels</td>\n",
       "      <td>2010</td>\n",
       "    </tr>\n",
       "    <tr>\n",
       "      <th>17874</th>\n",
       "      <td>Brian Fuentes</td>\n",
       "      <td>Pitcher</td>\n",
       "      <td>9000000</td>\n",
       "      <td>Los Angeles Angels</td>\n",
       "      <td>2010</td>\n",
       "    </tr>\n",
       "    <tr>\n",
       "      <th>17875</th>\n",
       "      <td>Scott Kazmir</td>\n",
       "      <td>Pitcher</td>\n",
       "      <td>8000000</td>\n",
       "      <td>Los Angeles Angels</td>\n",
       "      <td>2010</td>\n",
       "    </tr>\n",
       "    <tr>\n",
       "      <th>17876</th>\n",
       "      <td>Joel Pineiro</td>\n",
       "      <td>Pitcher</td>\n",
       "      <td>8000000</td>\n",
       "      <td>Los Angeles Angels</td>\n",
       "      <td>2010</td>\n",
       "    </tr>\n",
       "  </tbody>\n",
       "</table>\n",
       "</div>"
      ],
      "text/plain": [
       "              Player    Position    Salary                Team  Year\n",
       "17872   Torii Hunter  Outfielder  18500000  Los Angeles Angels  2010\n",
       "17873    Bobby Abreu  Outfielder   9000000  Los Angeles Angels  2010\n",
       "17874  Brian Fuentes     Pitcher   9000000  Los Angeles Angels  2010\n",
       "17875   Scott Kazmir     Pitcher   8000000  Los Angeles Angels  2010\n",
       "17876   Joel Pineiro     Pitcher   8000000  Los Angeles Angels  2010"
      ]
     },
     "execution_count": 35,
     "metadata": {},
     "output_type": "execute_result"
    }
   ],
   "source": [
    "yr_2010.sort_index(axis=1,inplace=True)\n",
    "yr_2010.head()"
   ]
  },
  {
   "cell_type": "markdown",
   "metadata": {},
   "source": [
    "#### find top 5 highest paid salary"
   ]
  },
  {
   "cell_type": "code",
   "execution_count": 11,
   "metadata": {},
   "outputs": [
    {
     "data": {
      "text/plain": [
       "18675    33000000\n",
       "18676    24285714\n",
       "18677    22600000\n",
       "18678    20625000\n",
       "18263    20144707\n",
       "Name: Salary, dtype: int64"
      ]
     },
     "execution_count": 11,
     "metadata": {},
     "output_type": "execute_result"
    }
   ],
   "source": [
    "yr_2010.Salary.sort_values(ascending=False).head()"
   ]
  },
  {
   "cell_type": "markdown",
   "metadata": {},
   "source": [
    "#### find top 5 highest paid salaries  and corresponding player name"
   ]
  },
  {
   "cell_type": "code",
   "execution_count": 12,
   "metadata": {},
   "outputs": [
    {
     "data": {
      "text/html": [
       "<div>\n",
       "<style>\n",
       "    .dataframe thead tr:only-child th {\n",
       "        text-align: right;\n",
       "    }\n",
       "\n",
       "    .dataframe thead th {\n",
       "        text-align: left;\n",
       "    }\n",
       "\n",
       "    .dataframe tbody tr th {\n",
       "        vertical-align: top;\n",
       "    }\n",
       "</style>\n",
       "<table border=\"1\" class=\"dataframe\">\n",
       "  <thead>\n",
       "    <tr style=\"text-align: right;\">\n",
       "      <th></th>\n",
       "      <th>Player</th>\n",
       "      <th>Salary</th>\n",
       "    </tr>\n",
       "  </thead>\n",
       "  <tbody>\n",
       "    <tr>\n",
       "      <th>18675</th>\n",
       "      <td>Alex Rodriguez</td>\n",
       "      <td>33000000</td>\n",
       "    </tr>\n",
       "    <tr>\n",
       "      <th>18676</th>\n",
       "      <td>CC Sabathia</td>\n",
       "      <td>24285714</td>\n",
       "    </tr>\n",
       "    <tr>\n",
       "      <th>18677</th>\n",
       "      <td>Derek Jeter</td>\n",
       "      <td>22600000</td>\n",
       "    </tr>\n",
       "    <tr>\n",
       "      <th>18678</th>\n",
       "      <td>Mark Teixeira</td>\n",
       "      <td>20625000</td>\n",
       "    </tr>\n",
       "    <tr>\n",
       "      <th>18263</th>\n",
       "      <td>Johan Santana</td>\n",
       "      <td>20144707</td>\n",
       "    </tr>\n",
       "  </tbody>\n",
       "</table>\n",
       "</div>"
      ],
      "text/plain": [
       "               Player    Salary\n",
       "18675  Alex Rodriguez  33000000\n",
       "18676     CC Sabathia  24285714\n",
       "18677     Derek Jeter  22600000\n",
       "18678   Mark Teixeira  20625000\n",
       "18263   Johan Santana  20144707"
      ]
     },
     "execution_count": 12,
     "metadata": {},
     "output_type": "execute_result"
    }
   ],
   "source": [
    "yr_2010.loc[yr_2010.Salary.sort_values(ascending=False).index[:5],['Player','Salary']]"
   ]
  },
  {
   "cell_type": "markdown",
   "metadata": {},
   "source": [
    "#### find 10 highest paid salaries record"
   ]
  },
  {
   "cell_type": "code",
   "execution_count": 13,
   "metadata": {},
   "outputs": [
    {
     "data": {
      "text/html": [
       "<div>\n",
       "<style>\n",
       "    .dataframe thead tr:only-child th {\n",
       "        text-align: right;\n",
       "    }\n",
       "\n",
       "    .dataframe thead th {\n",
       "        text-align: left;\n",
       "    }\n",
       "\n",
       "    .dataframe tbody tr th {\n",
       "        vertical-align: top;\n",
       "    }\n",
       "</style>\n",
       "<table border=\"1\" class=\"dataframe\">\n",
       "  <thead>\n",
       "    <tr style=\"text-align: right;\">\n",
       "      <th></th>\n",
       "      <th>Year</th>\n",
       "      <th>Player</th>\n",
       "      <th>Salary</th>\n",
       "      <th>Position</th>\n",
       "      <th>Team</th>\n",
       "    </tr>\n",
       "  </thead>\n",
       "  <tbody>\n",
       "    <tr>\n",
       "      <th>18675</th>\n",
       "      <td>2010</td>\n",
       "      <td>Alex Rodriguez</td>\n",
       "      <td>33000000</td>\n",
       "      <td>Third Baseman</td>\n",
       "      <td>New York Yankees</td>\n",
       "    </tr>\n",
       "    <tr>\n",
       "      <th>18676</th>\n",
       "      <td>2010</td>\n",
       "      <td>CC Sabathia</td>\n",
       "      <td>24285714</td>\n",
       "      <td>Pitcher</td>\n",
       "      <td>New York Yankees</td>\n",
       "    </tr>\n",
       "    <tr>\n",
       "      <th>18677</th>\n",
       "      <td>2010</td>\n",
       "      <td>Derek Jeter</td>\n",
       "      <td>22600000</td>\n",
       "      <td>Shortstop</td>\n",
       "      <td>New York Yankees</td>\n",
       "    </tr>\n",
       "    <tr>\n",
       "      <th>18678</th>\n",
       "      <td>2010</td>\n",
       "      <td>Mark Teixeira</td>\n",
       "      <td>20625000</td>\n",
       "      <td>First Baseman</td>\n",
       "      <td>New York Yankees</td>\n",
       "    </tr>\n",
       "    <tr>\n",
       "      <th>18263</th>\n",
       "      <td>2010</td>\n",
       "      <td>Johan Santana</td>\n",
       "      <td>20144707</td>\n",
       "      <td>Pitcher</td>\n",
       "      <td>New York Mets</td>\n",
       "    </tr>\n",
       "    <tr>\n",
       "      <th>18594</th>\n",
       "      <td>2010</td>\n",
       "      <td>Miguel Cabrera</td>\n",
       "      <td>20000000</td>\n",
       "      <td>First Baseman</td>\n",
       "      <td>Detroit Tigers</td>\n",
       "    </tr>\n",
       "    <tr>\n",
       "      <th>18264</th>\n",
       "      <td>2010</td>\n",
       "      <td>Carlos Beltran</td>\n",
       "      <td>19401569</td>\n",
       "      <td>Outfielder</td>\n",
       "      <td>New York Mets</td>\n",
       "    </tr>\n",
       "    <tr>\n",
       "      <th>17901</th>\n",
       "      <td>2010</td>\n",
       "      <td>Carlos Lee</td>\n",
       "      <td>19000000</td>\n",
       "      <td>Outfielder</td>\n",
       "      <td>Houston Astros</td>\n",
       "    </tr>\n",
       "    <tr>\n",
       "      <th>18071</th>\n",
       "      <td>2010</td>\n",
       "      <td>Alfonso Soriano</td>\n",
       "      <td>19000000</td>\n",
       "      <td>Outfielder</td>\n",
       "      <td>Chicago Cubs</td>\n",
       "    </tr>\n",
       "    <tr>\n",
       "      <th>18373</th>\n",
       "      <td>2010</td>\n",
       "      <td>Ryan Howard</td>\n",
       "      <td>19000000</td>\n",
       "      <td>First Baseman</td>\n",
       "      <td>Philadelphia Phillies</td>\n",
       "    </tr>\n",
       "  </tbody>\n",
       "</table>\n",
       "</div>"
      ],
      "text/plain": [
       "       Year           Player    Salary       Position                   Team\n",
       "18675  2010   Alex Rodriguez  33000000  Third Baseman       New York Yankees\n",
       "18676  2010      CC Sabathia  24285714        Pitcher       New York Yankees\n",
       "18677  2010      Derek Jeter  22600000      Shortstop       New York Yankees\n",
       "18678  2010    Mark Teixeira  20625000  First Baseman       New York Yankees\n",
       "18263  2010    Johan Santana  20144707        Pitcher          New York Mets\n",
       "18594  2010   Miguel Cabrera  20000000  First Baseman         Detroit Tigers\n",
       "18264  2010   Carlos Beltran  19401569     Outfielder          New York Mets\n",
       "17901  2010       Carlos Lee  19000000     Outfielder         Houston Astros\n",
       "18071  2010  Alfonso Soriano  19000000     Outfielder           Chicago Cubs\n",
       "18373  2010      Ryan Howard  19000000  First Baseman  Philadelphia Phillies"
      ]
     },
     "execution_count": 13,
     "metadata": {},
     "output_type": "execute_result"
    }
   ],
   "source": [
    "yr_2010.sort_values(ascending=False,by='Salary').head(10)"
   ]
  },
  {
   "cell_type": "markdown",
   "metadata": {},
   "source": [
    "#### Groupby using Year"
   ]
  },
  {
   "cell_type": "code",
   "execution_count": 14,
   "metadata": {
    "collapsed": true
   },
   "outputs": [],
   "source": [
    "group_yr = df.groupby('Year')\n"
   ]
  },
  {
   "cell_type": "code",
   "execution_count": 53,
   "metadata": {},
   "outputs": [
    {
     "data": {
      "text/plain": [
       "Year\n",
       "1988     2360714\n",
       "1989     2766666\n",
       "1990     3200000\n",
       "1991     3800000\n",
       "1992     6100000\n",
       "1993     6200000\n",
       "1994     6300000\n",
       "1995     9237500\n",
       "1996     9237500\n",
       "1997    10000000\n",
       "1998    10000000\n",
       "1999    11949794\n",
       "2000    15714286\n",
       "2001    22000000\n",
       "2002    22000000\n",
       "2003    22000000\n",
       "2004    22500000\n",
       "2005    26000000\n",
       "2006    21680727\n",
       "2007    23428571\n",
       "2008    28000000\n",
       "2009    33000000\n",
       "2010    33000000\n",
       "2011    32000000\n",
       "Name: Salary, dtype: int64"
      ]
     },
     "execution_count": 53,
     "metadata": {},
     "output_type": "execute_result"
    }
   ],
   "source": [
    "group_yr.Salary.max()"
   ]
  },
  {
   "cell_type": "code",
   "execution_count": 58,
   "metadata": {},
   "outputs": [],
   "source": [
    "r=[]\n",
    "for i,k in group_yr:\n",
    "    #print 'year:',i\n",
    "    #print i,k\n",
    "    r.append(k.sort_values('Salary',ascending=False).head(1))\n",
    "    "
   ]
  },
  {
   "cell_type": "markdown",
   "metadata": {},
   "source": [
    "#### Extract highest paid from each group(Year)"
   ]
  },
  {
   "cell_type": "code",
   "execution_count": 15,
   "metadata": {},
   "outputs": [
    {
     "name": "stdout",
     "output_type": "stream",
     "text": [
      "     Year       Player   Salary Position           Team\n",
      "321  1988  Gary Carter  2360714  Catcher  New York Mets\n",
      "     Year          Player   Salary Position                 Team\n",
      "908  1989  Orel Hershiser  2766666  Pitcher  Los Angeles Dodgers\n",
      "      Year       Player   Salary    Position               Team\n",
      "1580  1990  Robin Yount  3200000  Outfielder  Milwaukee Brewers\n",
      "      Year             Player   Salary    Position                 Team\n",
      "2590  1991  Darryl Strawberry  3800000  Outfielder  Los Angeles Dodgers\n",
      "      Year         Player   Salary    Position           Team\n",
      "3441  1992  Bobby Bonilla  6100000  Outfielder  New York Mets\n",
      "      Year         Player   Salary    Position           Team\n",
      "4214  1993  Bobby Bonilla  6200000  Outfielder  New York Mets\n",
      "      Year         Player   Salary       Position           Team\n",
      "4977  1994  Bobby Bonilla  6300000  Third Baseman  New York Mets\n",
      "      Year         Player   Salary       Position            Team\n",
      "6068  1995  Cecil Fielder  9237500  First Baseman  Detroit Tigers\n",
      "      Year         Player   Salary       Position            Team\n",
      "6840  1996  Cecil Fielder  9237500  First Baseman  Detroit Tigers\n",
      "      Year        Player    Salary    Position               Team\n",
      "7666  1997  Albert Belle  10000000  Outfielder  Chicago White Sox\n",
      "      Year          Player    Salary    Position             Team\n",
      "8090  1998  Gary Sheffield  10000000  Outfielder  Florida Marlins\n",
      "      Year        Player    Salary    Position               Team\n",
      "9067  1999  Albert Belle  11949794  Outfielder  Baltimore Orioles\n",
      "      Year          Player    Salary Position                 Team\n",
      "9743  2000  Kevin J. Brown  15714286  Pitcher  Los Angeles Dodgers\n",
      "       Year          Player    Salary   Position           Team\n",
      "10903  2001  Alex Rodriguez  22000000  Shortstop  Texas Rangers\n",
      "       Year          Player    Salary   Position           Team\n",
      "11752  2002  Alex Rodriguez  22000000  Shortstop  Texas Rangers\n",
      "       Year          Player    Salary   Position           Team\n",
      "12589  2003  Alex Rodriguez  22000000  Shortstop  Texas Rangers\n",
      "       Year         Player    Salary    Position            Team\n",
      "13497  2004  Manny Ramirez  22500000  Outfielder  Boston Red Sox\n",
      "       Year          Player    Salary       Position              Team\n",
      "14499  2005  Alex Rodriguez  26000000  Third Baseman  New York Yankees\n",
      "       Year          Player    Salary       Position              Team\n",
      "15320  2006  Alex Rodriguez  21680727  Third Baseman  New York Yankees\n",
      "       Year        Player    Salary           Position              Team\n",
      "16167  2007  Jason Giambi  23428571  Designated Hitter  New York Yankees\n",
      "       Year          Player    Salary       Position              Team\n",
      "17023  2008  Alex Rodriguez  28000000  Third Baseman  New York Yankees\n",
      "       Year          Player    Salary       Position              Team\n",
      "17846  2009  Alex Rodriguez  33000000  Third Baseman  New York Yankees\n",
      "       Year          Player    Salary       Position              Team\n",
      "18675  2010  Alex Rodriguez  33000000  Third Baseman  New York Yankees\n",
      "       Year          Player    Salary       Position              Team\n",
      "19513  2011  Alex Rodriguez  32000000  Third Baseman  New York Yankees\n"
     ]
    }
   ],
   "source": [
    "for k,group in group_yr:\n",
    "    print group.sort_values(ascending=False,by='Salary')[:1]"
   ]
  },
  {
   "cell_type": "code",
   "execution_count": 16,
   "metadata": {
    "collapsed": true
   },
   "outputs": [],
   "source": [
    "t=(group.sort_values(ascending=False,by='Salary')[:1] for k,group in group_yr)"
   ]
  },
  {
   "cell_type": "code",
   "execution_count": 59,
   "metadata": {
    "collapsed": true
   },
   "outputs": [],
   "source": [
    "top = pd.DataFrame()"
   ]
  },
  {
   "cell_type": "code",
   "execution_count": 60,
   "metadata": {
    "collapsed": true
   },
   "outputs": [],
   "source": [
    "for k in r:\n",
    "    \n",
    "    top=top.append(k)\n",
    "    \n",
    "\n",
    "    "
   ]
  },
  {
   "cell_type": "code",
   "execution_count": 61,
   "metadata": {},
   "outputs": [
    {
     "data": {
      "text/html": [
       "<div>\n",
       "<style>\n",
       "    .dataframe thead tr:only-child th {\n",
       "        text-align: right;\n",
       "    }\n",
       "\n",
       "    .dataframe thead th {\n",
       "        text-align: left;\n",
       "    }\n",
       "\n",
       "    .dataframe tbody tr th {\n",
       "        vertical-align: top;\n",
       "    }\n",
       "</style>\n",
       "<table border=\"1\" class=\"dataframe\">\n",
       "  <thead>\n",
       "    <tr style=\"text-align: right;\">\n",
       "      <th></th>\n",
       "      <th>Year</th>\n",
       "      <th>Player</th>\n",
       "      <th>Salary</th>\n",
       "      <th>Position</th>\n",
       "      <th>Team</th>\n",
       "    </tr>\n",
       "  </thead>\n",
       "  <tbody>\n",
       "    <tr>\n",
       "      <th>321</th>\n",
       "      <td>1988</td>\n",
       "      <td>Gary Carter</td>\n",
       "      <td>2360714</td>\n",
       "      <td>Catcher</td>\n",
       "      <td>New York Mets</td>\n",
       "    </tr>\n",
       "    <tr>\n",
       "      <th>908</th>\n",
       "      <td>1989</td>\n",
       "      <td>Orel Hershiser</td>\n",
       "      <td>2766666</td>\n",
       "      <td>Pitcher</td>\n",
       "      <td>Los Angeles Dodgers</td>\n",
       "    </tr>\n",
       "    <tr>\n",
       "      <th>1580</th>\n",
       "      <td>1990</td>\n",
       "      <td>Robin Yount</td>\n",
       "      <td>3200000</td>\n",
       "      <td>Outfielder</td>\n",
       "      <td>Milwaukee Brewers</td>\n",
       "    </tr>\n",
       "    <tr>\n",
       "      <th>2590</th>\n",
       "      <td>1991</td>\n",
       "      <td>Darryl Strawberry</td>\n",
       "      <td>3800000</td>\n",
       "      <td>Outfielder</td>\n",
       "      <td>Los Angeles Dodgers</td>\n",
       "    </tr>\n",
       "    <tr>\n",
       "      <th>3441</th>\n",
       "      <td>1992</td>\n",
       "      <td>Bobby Bonilla</td>\n",
       "      <td>6100000</td>\n",
       "      <td>Outfielder</td>\n",
       "      <td>New York Mets</td>\n",
       "    </tr>\n",
       "    <tr>\n",
       "      <th>4214</th>\n",
       "      <td>1993</td>\n",
       "      <td>Bobby Bonilla</td>\n",
       "      <td>6200000</td>\n",
       "      <td>Outfielder</td>\n",
       "      <td>New York Mets</td>\n",
       "    </tr>\n",
       "    <tr>\n",
       "      <th>4977</th>\n",
       "      <td>1994</td>\n",
       "      <td>Bobby Bonilla</td>\n",
       "      <td>6300000</td>\n",
       "      <td>Third Baseman</td>\n",
       "      <td>New York Mets</td>\n",
       "    </tr>\n",
       "    <tr>\n",
       "      <th>6068</th>\n",
       "      <td>1995</td>\n",
       "      <td>Cecil Fielder</td>\n",
       "      <td>9237500</td>\n",
       "      <td>First Baseman</td>\n",
       "      <td>Detroit Tigers</td>\n",
       "    </tr>\n",
       "    <tr>\n",
       "      <th>6840</th>\n",
       "      <td>1996</td>\n",
       "      <td>Cecil Fielder</td>\n",
       "      <td>9237500</td>\n",
       "      <td>First Baseman</td>\n",
       "      <td>Detroit Tigers</td>\n",
       "    </tr>\n",
       "    <tr>\n",
       "      <th>7666</th>\n",
       "      <td>1997</td>\n",
       "      <td>Albert Belle</td>\n",
       "      <td>10000000</td>\n",
       "      <td>Outfielder</td>\n",
       "      <td>Chicago White Sox</td>\n",
       "    </tr>\n",
       "    <tr>\n",
       "      <th>8090</th>\n",
       "      <td>1998</td>\n",
       "      <td>Gary Sheffield</td>\n",
       "      <td>10000000</td>\n",
       "      <td>Outfielder</td>\n",
       "      <td>Florida Marlins</td>\n",
       "    </tr>\n",
       "    <tr>\n",
       "      <th>9067</th>\n",
       "      <td>1999</td>\n",
       "      <td>Albert Belle</td>\n",
       "      <td>11949794</td>\n",
       "      <td>Outfielder</td>\n",
       "      <td>Baltimore Orioles</td>\n",
       "    </tr>\n",
       "    <tr>\n",
       "      <th>9743</th>\n",
       "      <td>2000</td>\n",
       "      <td>Kevin J. Brown</td>\n",
       "      <td>15714286</td>\n",
       "      <td>Pitcher</td>\n",
       "      <td>Los Angeles Dodgers</td>\n",
       "    </tr>\n",
       "    <tr>\n",
       "      <th>10903</th>\n",
       "      <td>2001</td>\n",
       "      <td>Alex Rodriguez</td>\n",
       "      <td>22000000</td>\n",
       "      <td>Shortstop</td>\n",
       "      <td>Texas Rangers</td>\n",
       "    </tr>\n",
       "    <tr>\n",
       "      <th>11752</th>\n",
       "      <td>2002</td>\n",
       "      <td>Alex Rodriguez</td>\n",
       "      <td>22000000</td>\n",
       "      <td>Shortstop</td>\n",
       "      <td>Texas Rangers</td>\n",
       "    </tr>\n",
       "    <tr>\n",
       "      <th>12589</th>\n",
       "      <td>2003</td>\n",
       "      <td>Alex Rodriguez</td>\n",
       "      <td>22000000</td>\n",
       "      <td>Shortstop</td>\n",
       "      <td>Texas Rangers</td>\n",
       "    </tr>\n",
       "    <tr>\n",
       "      <th>13497</th>\n",
       "      <td>2004</td>\n",
       "      <td>Manny Ramirez</td>\n",
       "      <td>22500000</td>\n",
       "      <td>Outfielder</td>\n",
       "      <td>Boston Red Sox</td>\n",
       "    </tr>\n",
       "    <tr>\n",
       "      <th>14499</th>\n",
       "      <td>2005</td>\n",
       "      <td>Alex Rodriguez</td>\n",
       "      <td>26000000</td>\n",
       "      <td>Third Baseman</td>\n",
       "      <td>New York Yankees</td>\n",
       "    </tr>\n",
       "    <tr>\n",
       "      <th>15320</th>\n",
       "      <td>2006</td>\n",
       "      <td>Alex Rodriguez</td>\n",
       "      <td>21680727</td>\n",
       "      <td>Third Baseman</td>\n",
       "      <td>New York Yankees</td>\n",
       "    </tr>\n",
       "    <tr>\n",
       "      <th>16167</th>\n",
       "      <td>2007</td>\n",
       "      <td>Jason Giambi</td>\n",
       "      <td>23428571</td>\n",
       "      <td>Designated Hitter</td>\n",
       "      <td>New York Yankees</td>\n",
       "    </tr>\n",
       "    <tr>\n",
       "      <th>17023</th>\n",
       "      <td>2008</td>\n",
       "      <td>Alex Rodriguez</td>\n",
       "      <td>28000000</td>\n",
       "      <td>Third Baseman</td>\n",
       "      <td>New York Yankees</td>\n",
       "    </tr>\n",
       "    <tr>\n",
       "      <th>17846</th>\n",
       "      <td>2009</td>\n",
       "      <td>Alex Rodriguez</td>\n",
       "      <td>33000000</td>\n",
       "      <td>Third Baseman</td>\n",
       "      <td>New York Yankees</td>\n",
       "    </tr>\n",
       "    <tr>\n",
       "      <th>18675</th>\n",
       "      <td>2010</td>\n",
       "      <td>Alex Rodriguez</td>\n",
       "      <td>33000000</td>\n",
       "      <td>Third Baseman</td>\n",
       "      <td>New York Yankees</td>\n",
       "    </tr>\n",
       "    <tr>\n",
       "      <th>19513</th>\n",
       "      <td>2011</td>\n",
       "      <td>Alex Rodriguez</td>\n",
       "      <td>32000000</td>\n",
       "      <td>Third Baseman</td>\n",
       "      <td>New York Yankees</td>\n",
       "    </tr>\n",
       "  </tbody>\n",
       "</table>\n",
       "</div>"
      ],
      "text/plain": [
       "       Year             Player    Salary           Position  \\\n",
       "321    1988        Gary Carter   2360714            Catcher   \n",
       "908    1989     Orel Hershiser   2766666            Pitcher   \n",
       "1580   1990        Robin Yount   3200000         Outfielder   \n",
       "2590   1991  Darryl Strawberry   3800000         Outfielder   \n",
       "3441   1992      Bobby Bonilla   6100000         Outfielder   \n",
       "4214   1993      Bobby Bonilla   6200000         Outfielder   \n",
       "4977   1994      Bobby Bonilla   6300000      Third Baseman   \n",
       "6068   1995      Cecil Fielder   9237500      First Baseman   \n",
       "6840   1996      Cecil Fielder   9237500      First Baseman   \n",
       "7666   1997       Albert Belle  10000000         Outfielder   \n",
       "8090   1998     Gary Sheffield  10000000         Outfielder   \n",
       "9067   1999       Albert Belle  11949794         Outfielder   \n",
       "9743   2000     Kevin J. Brown  15714286            Pitcher   \n",
       "10903  2001     Alex Rodriguez  22000000          Shortstop   \n",
       "11752  2002     Alex Rodriguez  22000000          Shortstop   \n",
       "12589  2003     Alex Rodriguez  22000000          Shortstop   \n",
       "13497  2004      Manny Ramirez  22500000         Outfielder   \n",
       "14499  2005     Alex Rodriguez  26000000      Third Baseman   \n",
       "15320  2006     Alex Rodriguez  21680727      Third Baseman   \n",
       "16167  2007       Jason Giambi  23428571  Designated Hitter   \n",
       "17023  2008     Alex Rodriguez  28000000      Third Baseman   \n",
       "17846  2009     Alex Rodriguez  33000000      Third Baseman   \n",
       "18675  2010     Alex Rodriguez  33000000      Third Baseman   \n",
       "19513  2011     Alex Rodriguez  32000000      Third Baseman   \n",
       "\n",
       "                      Team  \n",
       "321          New York Mets  \n",
       "908    Los Angeles Dodgers  \n",
       "1580     Milwaukee Brewers  \n",
       "2590   Los Angeles Dodgers  \n",
       "3441         New York Mets  \n",
       "4214         New York Mets  \n",
       "4977         New York Mets  \n",
       "6068        Detroit Tigers  \n",
       "6840        Detroit Tigers  \n",
       "7666     Chicago White Sox  \n",
       "8090       Florida Marlins  \n",
       "9067     Baltimore Orioles  \n",
       "9743   Los Angeles Dodgers  \n",
       "10903        Texas Rangers  \n",
       "11752        Texas Rangers  \n",
       "12589        Texas Rangers  \n",
       "13497       Boston Red Sox  \n",
       "14499     New York Yankees  \n",
       "15320     New York Yankees  \n",
       "16167     New York Yankees  \n",
       "17023     New York Yankees  \n",
       "17846     New York Yankees  \n",
       "18675     New York Yankees  \n",
       "19513     New York Yankees  "
      ]
     },
     "execution_count": 61,
     "metadata": {},
     "output_type": "execute_result"
    }
   ],
   "source": [
    "top"
   ]
  },
  {
   "cell_type": "markdown",
   "metadata": {},
   "source": [
    "#### Appending Dataframe"
   ]
  },
  {
   "cell_type": "code",
   "execution_count": 20,
   "metadata": {
    "collapsed": true
   },
   "outputs": [],
   "source": [
    "df = pd.DataFrame([[1, 2], [3, 4]],columns=['A','B'])"
   ]
  },
  {
   "cell_type": "code",
   "execution_count": 21,
   "metadata": {
    "collapsed": true
   },
   "outputs": [],
   "source": [
    "df1 = pd.DataFrame([[5, 6], [7,8]])"
   ]
  },
  {
   "cell_type": "code",
   "execution_count": 22,
   "metadata": {
    "collapsed": true
   },
   "outputs": [],
   "source": [
    "df2 = pd.DataFrame([[9, 10], [11,12]])"
   ]
  },
  {
   "cell_type": "code",
   "execution_count": 23,
   "metadata": {},
   "outputs": [
    {
     "data": {
      "text/html": [
       "<div>\n",
       "<style>\n",
       "    .dataframe thead tr:only-child th {\n",
       "        text-align: right;\n",
       "    }\n",
       "\n",
       "    .dataframe thead th {\n",
       "        text-align: left;\n",
       "    }\n",
       "\n",
       "    .dataframe tbody tr th {\n",
       "        vertical-align: top;\n",
       "    }\n",
       "</style>\n",
       "<table border=\"1\" class=\"dataframe\">\n",
       "  <thead>\n",
       "    <tr style=\"text-align: right;\">\n",
       "      <th></th>\n",
       "      <th>0</th>\n",
       "      <th>1</th>\n",
       "    </tr>\n",
       "  </thead>\n",
       "  <tbody>\n",
       "    <tr>\n",
       "      <th>0</th>\n",
       "      <td>5</td>\n",
       "      <td>6</td>\n",
       "    </tr>\n",
       "    <tr>\n",
       "      <th>1</th>\n",
       "      <td>7</td>\n",
       "      <td>8</td>\n",
       "    </tr>\n",
       "    <tr>\n",
       "      <th>2</th>\n",
       "      <td>9</td>\n",
       "      <td>10</td>\n",
       "    </tr>\n",
       "    <tr>\n",
       "      <th>3</th>\n",
       "      <td>11</td>\n",
       "      <td>12</td>\n",
       "    </tr>\n",
       "  </tbody>\n",
       "</table>\n",
       "</div>"
      ],
      "text/plain": [
       "    0   1\n",
       "0   5   6\n",
       "1   7   8\n",
       "2   9  10\n",
       "3  11  12"
      ]
     },
     "execution_count": 23,
     "metadata": {},
     "output_type": "execute_result"
    }
   ],
   "source": [
    "df=df1.append(df2,ignore_index=True)\n",
    "\n",
    "#d=df.append(df1,ignore_index=True)\n",
    "#df3=df.append(df2)\n",
    "#df3\n",
    "#df\n",
    "df"
   ]
  },
  {
   "cell_type": "code",
   "execution_count": 24,
   "metadata": {},
   "outputs": [
    {
     "data": {
      "text/html": [
       "<div>\n",
       "<style>\n",
       "    .dataframe thead tr:only-child th {\n",
       "        text-align: right;\n",
       "    }\n",
       "\n",
       "    .dataframe thead th {\n",
       "        text-align: left;\n",
       "    }\n",
       "\n",
       "    .dataframe tbody tr th {\n",
       "        vertical-align: top;\n",
       "    }\n",
       "</style>\n",
       "<table border=\"1\" class=\"dataframe\">\n",
       "  <thead>\n",
       "    <tr style=\"text-align: right;\">\n",
       "      <th></th>\n",
       "      <th>0</th>\n",
       "      <th>1</th>\n",
       "    </tr>\n",
       "  </thead>\n",
       "  <tbody>\n",
       "    <tr>\n",
       "      <th>0</th>\n",
       "      <td>5</td>\n",
       "      <td>6</td>\n",
       "    </tr>\n",
       "    <tr>\n",
       "      <th>1</th>\n",
       "      <td>7</td>\n",
       "      <td>8</td>\n",
       "    </tr>\n",
       "    <tr>\n",
       "      <th>2</th>\n",
       "      <td>9</td>\n",
       "      <td>10</td>\n",
       "    </tr>\n",
       "    <tr>\n",
       "      <th>3</th>\n",
       "      <td>11</td>\n",
       "      <td>12</td>\n",
       "    </tr>\n",
       "  </tbody>\n",
       "</table>\n",
       "</div>"
      ],
      "text/plain": [
       "    0   1\n",
       "0   5   6\n",
       "1   7   8\n",
       "2   9  10\n",
       "3  11  12"
      ]
     },
     "execution_count": 24,
     "metadata": {},
     "output_type": "execute_result"
    }
   ],
   "source": [
    "df"
   ]
  },
  {
   "cell_type": "code",
   "execution_count": 25,
   "metadata": {},
   "outputs": [
    {
     "data": {
      "text/html": [
       "<div>\n",
       "<style>\n",
       "    .dataframe thead tr:only-child th {\n",
       "        text-align: right;\n",
       "    }\n",
       "\n",
       "    .dataframe thead th {\n",
       "        text-align: left;\n",
       "    }\n",
       "\n",
       "    .dataframe tbody tr th {\n",
       "        vertical-align: top;\n",
       "    }\n",
       "</style>\n",
       "<table border=\"1\" class=\"dataframe\">\n",
       "  <thead>\n",
       "    <tr style=\"text-align: right;\">\n",
       "      <th></th>\n",
       "      <th>0</th>\n",
       "      <th>1</th>\n",
       "    </tr>\n",
       "  </thead>\n",
       "  <tbody>\n",
       "    <tr>\n",
       "      <th>0</th>\n",
       "      <td>5</td>\n",
       "      <td>6</td>\n",
       "    </tr>\n",
       "    <tr>\n",
       "      <th>1</th>\n",
       "      <td>7</td>\n",
       "      <td>8</td>\n",
       "    </tr>\n",
       "    <tr>\n",
       "      <th>2</th>\n",
       "      <td>9</td>\n",
       "      <td>10</td>\n",
       "    </tr>\n",
       "    <tr>\n",
       "      <th>3</th>\n",
       "      <td>11</td>\n",
       "      <td>12</td>\n",
       "    </tr>\n",
       "    <tr>\n",
       "      <th>0</th>\n",
       "      <td>9</td>\n",
       "      <td>10</td>\n",
       "    </tr>\n",
       "    <tr>\n",
       "      <th>1</th>\n",
       "      <td>11</td>\n",
       "      <td>12</td>\n",
       "    </tr>\n",
       "  </tbody>\n",
       "</table>\n",
       "</div>"
      ],
      "text/plain": [
       "    0   1\n",
       "0   5   6\n",
       "1   7   8\n",
       "2   9  10\n",
       "3  11  12\n",
       "0   9  10\n",
       "1  11  12"
      ]
     },
     "execution_count": 25,
     "metadata": {},
     "output_type": "execute_result"
    }
   ],
   "source": [
    "df.append(df2)"
   ]
  },
  {
   "cell_type": "markdown",
   "metadata": {},
   "source": [
    "#### Create a series of top salaries and plot"
   ]
  },
  {
   "cell_type": "code",
   "execution_count": 26,
   "metadata": {
    "collapsed": true
   },
   "outputs": [],
   "source": [
    "tp = top[['Year','Salary']]"
   ]
  },
  {
   "cell_type": "code",
   "execution_count": 27,
   "metadata": {
    "collapsed": true
   },
   "outputs": [],
   "source": [
    "tp=tp.set_index('Year')"
   ]
  },
  {
   "cell_type": "code",
   "execution_count": 28,
   "metadata": {},
   "outputs": [
    {
     "data": {
      "text/html": [
       "<div>\n",
       "<style>\n",
       "    .dataframe thead tr:only-child th {\n",
       "        text-align: right;\n",
       "    }\n",
       "\n",
       "    .dataframe thead th {\n",
       "        text-align: left;\n",
       "    }\n",
       "\n",
       "    .dataframe tbody tr th {\n",
       "        vertical-align: top;\n",
       "    }\n",
       "</style>\n",
       "<table border=\"1\" class=\"dataframe\">\n",
       "  <thead>\n",
       "    <tr style=\"text-align: right;\">\n",
       "      <th></th>\n",
       "      <th>Salary</th>\n",
       "    </tr>\n",
       "    <tr>\n",
       "      <th>Year</th>\n",
       "      <th></th>\n",
       "    </tr>\n",
       "  </thead>\n",
       "  <tbody>\n",
       "    <tr>\n",
       "      <th>1988</th>\n",
       "      <td>2360714</td>\n",
       "    </tr>\n",
       "    <tr>\n",
       "      <th>1989</th>\n",
       "      <td>2766666</td>\n",
       "    </tr>\n",
       "    <tr>\n",
       "      <th>1990</th>\n",
       "      <td>3200000</td>\n",
       "    </tr>\n",
       "    <tr>\n",
       "      <th>1991</th>\n",
       "      <td>3800000</td>\n",
       "    </tr>\n",
       "    <tr>\n",
       "      <th>1992</th>\n",
       "      <td>6100000</td>\n",
       "    </tr>\n",
       "    <tr>\n",
       "      <th>1993</th>\n",
       "      <td>6200000</td>\n",
       "    </tr>\n",
       "    <tr>\n",
       "      <th>1994</th>\n",
       "      <td>6300000</td>\n",
       "    </tr>\n",
       "    <tr>\n",
       "      <th>1995</th>\n",
       "      <td>9237500</td>\n",
       "    </tr>\n",
       "    <tr>\n",
       "      <th>1996</th>\n",
       "      <td>9237500</td>\n",
       "    </tr>\n",
       "    <tr>\n",
       "      <th>1997</th>\n",
       "      <td>10000000</td>\n",
       "    </tr>\n",
       "    <tr>\n",
       "      <th>1998</th>\n",
       "      <td>10000000</td>\n",
       "    </tr>\n",
       "    <tr>\n",
       "      <th>1999</th>\n",
       "      <td>11949794</td>\n",
       "    </tr>\n",
       "    <tr>\n",
       "      <th>2000</th>\n",
       "      <td>15714286</td>\n",
       "    </tr>\n",
       "    <tr>\n",
       "      <th>2001</th>\n",
       "      <td>22000000</td>\n",
       "    </tr>\n",
       "    <tr>\n",
       "      <th>2002</th>\n",
       "      <td>22000000</td>\n",
       "    </tr>\n",
       "    <tr>\n",
       "      <th>2003</th>\n",
       "      <td>22000000</td>\n",
       "    </tr>\n",
       "    <tr>\n",
       "      <th>2004</th>\n",
       "      <td>22500000</td>\n",
       "    </tr>\n",
       "    <tr>\n",
       "      <th>2005</th>\n",
       "      <td>26000000</td>\n",
       "    </tr>\n",
       "    <tr>\n",
       "      <th>2006</th>\n",
       "      <td>21680727</td>\n",
       "    </tr>\n",
       "    <tr>\n",
       "      <th>2007</th>\n",
       "      <td>23428571</td>\n",
       "    </tr>\n",
       "    <tr>\n",
       "      <th>2008</th>\n",
       "      <td>28000000</td>\n",
       "    </tr>\n",
       "    <tr>\n",
       "      <th>2009</th>\n",
       "      <td>33000000</td>\n",
       "    </tr>\n",
       "    <tr>\n",
       "      <th>2010</th>\n",
       "      <td>33000000</td>\n",
       "    </tr>\n",
       "    <tr>\n",
       "      <th>2011</th>\n",
       "      <td>32000000</td>\n",
       "    </tr>\n",
       "  </tbody>\n",
       "</table>\n",
       "</div>"
      ],
      "text/plain": [
       "        Salary\n",
       "Year          \n",
       "1988   2360714\n",
       "1989   2766666\n",
       "1990   3200000\n",
       "1991   3800000\n",
       "1992   6100000\n",
       "1993   6200000\n",
       "1994   6300000\n",
       "1995   9237500\n",
       "1996   9237500\n",
       "1997  10000000\n",
       "1998  10000000\n",
       "1999  11949794\n",
       "2000  15714286\n",
       "2001  22000000\n",
       "2002  22000000\n",
       "2003  22000000\n",
       "2004  22500000\n",
       "2005  26000000\n",
       "2006  21680727\n",
       "2007  23428571\n",
       "2008  28000000\n",
       "2009  33000000\n",
       "2010  33000000\n",
       "2011  32000000"
      ]
     },
     "execution_count": 28,
     "metadata": {},
     "output_type": "execute_result"
    }
   ],
   "source": [
    "tp"
   ]
  },
  {
   "cell_type": "code",
   "execution_count": 29,
   "metadata": {
    "collapsed": true
   },
   "outputs": [],
   "source": [
    "%matplotlib inline"
   ]
  },
  {
   "cell_type": "code",
   "execution_count": 4,
   "metadata": {},
   "outputs": [
    {
     "ename": "NameError",
     "evalue": "name 'tp' is not defined",
     "output_type": "error",
     "traceback": [
      "\u001b[1;31m---------------------------------------------------------------------------\u001b[0m",
      "\u001b[1;31mNameError\u001b[0m                                 Traceback (most recent call last)",
      "\u001b[1;32m<ipython-input-4-0ab4cbdb589e>\u001b[0m in \u001b[0;36m<module>\u001b[1;34m()\u001b[0m\n\u001b[1;32m----> 1\u001b[1;33m \u001b[0mtp\u001b[0m\u001b[1;33m.\u001b[0m\u001b[0mplot\u001b[0m\u001b[1;33m(\u001b[0m\u001b[0mkind\u001b[0m\u001b[1;33m=\u001b[0m\u001b[1;34m'bar'\u001b[0m\u001b[1;33m)\u001b[0m\u001b[1;33m\u001b[0m\u001b[0m\n\u001b[0m\u001b[0;32m      2\u001b[0m \u001b[0mtp\u001b[0m\u001b[1;33m.\u001b[0m\u001b[0mplot\u001b[0m\u001b[1;33m(\u001b[0m\u001b[1;33m)\u001b[0m\u001b[1;33m\u001b[0m\u001b[0m\n",
      "\u001b[1;31mNameError\u001b[0m: name 'tp' is not defined"
     ]
    }
   ],
   "source": [
    "tp.plot(kind='bar')\n",
    "tp.plot()"
   ]
  },
  {
   "cell_type": "code",
   "execution_count": 31,
   "metadata": {
    "collapsed": true
   },
   "outputs": [],
   "source": [
    "def count(X):\n",
    "    return X.upper()"
   ]
  },
  {
   "cell_type": "code",
   "execution_count": 32,
   "metadata": {},
   "outputs": [
    {
     "ename": "SyntaxError",
     "evalue": "invalid syntax (<ipython-input-32-2da1b02d9c32>, line 1)",
     "output_type": "error",
     "traceback": [
      "\u001b[1;36m  File \u001b[1;32m\"<ipython-input-32-2da1b02d9c32>\"\u001b[1;36m, line \u001b[1;32m1\u001b[0m\n\u001b[1;33m    yr_2010.\u001b[0m\n\u001b[1;37m            ^\u001b[0m\n\u001b[1;31mSyntaxError\u001b[0m\u001b[1;31m:\u001b[0m invalid syntax\n"
     ]
    }
   ],
   "source": [
    "yr_2010."
   ]
  },
  {
   "cell_type": "code",
   "execution_count": 71,
   "metadata": {},
   "outputs": [
    {
     "data": {
      "text/html": [
       "<div>\n",
       "<style>\n",
       "    .dataframe thead tr:only-child th {\n",
       "        text-align: right;\n",
       "    }\n",
       "\n",
       "    .dataframe thead th {\n",
       "        text-align: left;\n",
       "    }\n",
       "\n",
       "    .dataframe tbody tr th {\n",
       "        vertical-align: top;\n",
       "    }\n",
       "</style>\n",
       "<table border=\"1\" class=\"dataframe\">\n",
       "  <thead>\n",
       "    <tr style=\"text-align: right;\">\n",
       "      <th></th>\n",
       "      <th>Year</th>\n",
       "      <th>Player</th>\n",
       "      <th>Salary</th>\n",
       "      <th>Position</th>\n",
       "      <th>Team</th>\n",
       "    </tr>\n",
       "  </thead>\n",
       "  <tbody>\n",
       "    <tr>\n",
       "      <th>321</th>\n",
       "      <td>1988</td>\n",
       "      <td>Gary Carter</td>\n",
       "      <td>2360714</td>\n",
       "      <td>Catcher</td>\n",
       "      <td>New York Mets</td>\n",
       "    </tr>\n",
       "  </tbody>\n",
       "</table>\n",
       "</div>"
      ],
      "text/plain": [
       "     Year       Player   Salary Position           Team\n",
       "321  1988  Gary Carter  2360714  Catcher  New York Mets"
      ]
     },
     "execution_count": 71,
     "metadata": {},
     "output_type": "execute_result"
    }
   ],
   "source": [
    "pd.DataFrame(r[0])"
   ]
  },
  {
   "cell_type": "code",
   "execution_count": 69,
   "metadata": {},
   "outputs": [],
   "source": []
  },
  {
   "cell_type": "code",
   "execution_count": 70,
   "metadata": {},
   "outputs": [
    {
     "data": {
      "text/html": [
       "<div>\n",
       "<style>\n",
       "    .dataframe thead tr:only-child th {\n",
       "        text-align: right;\n",
       "    }\n",
       "\n",
       "    .dataframe thead th {\n",
       "        text-align: left;\n",
       "    }\n",
       "\n",
       "    .dataframe tbody tr th {\n",
       "        vertical-align: top;\n",
       "    }\n",
       "</style>\n",
       "<table border=\"1\" class=\"dataframe\">\n",
       "  <thead>\n",
       "    <tr style=\"text-align: right;\">\n",
       "      <th></th>\n",
       "      <th>0</th>\n",
       "      <th>1</th>\n",
       "      <th>2</th>\n",
       "      <th>3</th>\n",
       "      <th>4</th>\n",
       "      <th>5</th>\n",
       "      <th>6</th>\n",
       "      <th>7</th>\n",
       "      <th>8</th>\n",
       "      <th>9</th>\n",
       "      <th>...</th>\n",
       "      <th>14</th>\n",
       "      <th>15</th>\n",
       "      <th>16</th>\n",
       "      <th>17</th>\n",
       "      <th>18</th>\n",
       "      <th>19</th>\n",
       "      <th>20</th>\n",
       "      <th>21</th>\n",
       "      <th>22</th>\n",
       "      <th>23</th>\n",
       "    </tr>\n",
       "  </thead>\n",
       "  <tbody>\n",
       "    <tr>\n",
       "      <th>0</th>\n",
       "      <td>Year       Player   Salary Position      ...</td>\n",
       "      <td>Year          Player   Salary Position   ...</td>\n",
       "      <td>Year       Player   Salary    Position  ...</td>\n",
       "      <td>Year             Player   Salary    Posi...</td>\n",
       "      <td>Year         Player   Salary    Position...</td>\n",
       "      <td>Year         Player   Salary    Position...</td>\n",
       "      <td>Year         Player   Salary       Posit...</td>\n",
       "      <td>Year         Player   Salary       Posit...</td>\n",
       "      <td>Year         Player   Salary       Posit...</td>\n",
       "      <td>Year        Player    Salary    Position...</td>\n",
       "      <td>...</td>\n",
       "      <td>Year          Player    Salary   Positi...</td>\n",
       "      <td>Year          Player    Salary   Positi...</td>\n",
       "      <td>Year         Player    Salary    Positi...</td>\n",
       "      <td>Year          Player    Salary       Po...</td>\n",
       "      <td>Year          Player    Salary       Po...</td>\n",
       "      <td>Year        Player    Salary           ...</td>\n",
       "      <td>Year          Player    Salary       Po...</td>\n",
       "      <td>Year          Player    Salary       Po...</td>\n",
       "      <td>Year          Player    Salary       Po...</td>\n",
       "      <td>Year          Player    Salary       Po...</td>\n",
       "    </tr>\n",
       "  </tbody>\n",
       "</table>\n",
       "<p>1 rows × 24 columns</p>\n",
       "</div>"
      ],
      "text/plain": [
       "                                                  0   \\\n",
       "0       Year       Player   Salary Position      ...   \n",
       "\n",
       "                                                  1   \\\n",
       "0       Year          Player   Salary Position   ...   \n",
       "\n",
       "                                                  2   \\\n",
       "0        Year       Player   Salary    Position  ...   \n",
       "\n",
       "                                                  3   \\\n",
       "0        Year             Player   Salary    Posi...   \n",
       "\n",
       "                                                  4   \\\n",
       "0        Year         Player   Salary    Position...   \n",
       "\n",
       "                                                  5   \\\n",
       "0        Year         Player   Salary    Position...   \n",
       "\n",
       "                                                  6   \\\n",
       "0        Year         Player   Salary       Posit...   \n",
       "\n",
       "                                                  7   \\\n",
       "0        Year         Player   Salary       Posit...   \n",
       "\n",
       "                                                  8   \\\n",
       "0        Year         Player   Salary       Posit...   \n",
       "\n",
       "                                                  9   \\\n",
       "0        Year        Player    Salary    Position...   \n",
       "\n",
       "                         ...                          \\\n",
       "0                        ...                           \n",
       "\n",
       "                                                  14  \\\n",
       "0         Year          Player    Salary   Positi...   \n",
       "\n",
       "                                                  15  \\\n",
       "0         Year          Player    Salary   Positi...   \n",
       "\n",
       "                                                  16  \\\n",
       "0         Year         Player    Salary    Positi...   \n",
       "\n",
       "                                                  17  \\\n",
       "0         Year          Player    Salary       Po...   \n",
       "\n",
       "                                                  18  \\\n",
       "0         Year          Player    Salary       Po...   \n",
       "\n",
       "                                                  19  \\\n",
       "0         Year        Player    Salary           ...   \n",
       "\n",
       "                                                  20  \\\n",
       "0         Year          Player    Salary       Po...   \n",
       "\n",
       "                                                  21  \\\n",
       "0         Year          Player    Salary       Po...   \n",
       "\n",
       "                                                  22  \\\n",
       "0         Year          Player    Salary       Po...   \n",
       "\n",
       "                                                  23  \n",
       "0         Year          Player    Salary       Po...  \n",
       "\n",
       "[1 rows x 24 columns]"
      ]
     },
     "execution_count": 70,
     "metadata": {},
     "output_type": "execute_result"
    }
   ],
   "source": [
    "t"
   ]
  },
  {
   "cell_type": "code",
   "execution_count": null,
   "metadata": {
    "collapsed": true
   },
   "outputs": [],
   "source": []
  }
 ],
 "metadata": {
  "kernelspec": {
   "display_name": "Python 3",
   "language": "python",
   "name": "python3"
  },
  "language_info": {
   "codemirror_mode": {
    "name": "ipython",
    "version": 3
   },
   "file_extension": ".py",
   "mimetype": "text/x-python",
   "name": "python",
   "nbconvert_exporter": "python",
   "pygments_lexer": "ipython3",
   "version": "3.6.4"
  }
 },
 "nbformat": 4,
 "nbformat_minor": 2
}
