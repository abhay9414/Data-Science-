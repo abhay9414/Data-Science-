{
 "cells": [
  {
   "cell_type": "markdown",
   "metadata": {},
   "source": [
    "## Tackling overfitting via regularization"
   ]
  },
  {
   "cell_type": "markdown",
   "metadata": {},
   "source": [
    "Overfitting is a problem where a model performs well on training data but does not generalize well to unseen data(test data)\n",
    "If a model suffers from overfitting,we also say that the model has a high variance,which can be caused by having too many \n",
    "parameters that lead to a model that is too complex..\n",
    "\n",
    "\n",
    "Similarly our model can suffer from underfitting(high bias) which means that model is not complex enough to capture the \n",
    "pattern in the training data well and therefore also suffer from low performance on test data(unseen data)"
   ]
  },
  {
   "cell_type": "markdown",
   "metadata": {},
   "source": [
    "<img src=\"images/overfit.png\" width='60%' height='60%'/>"
   ]
  },
  {
   "cell_type": "markdown",
   "metadata": {},
   "source": [
    "### Regulaization:a way to reduce overfitting or to tune the complexity of the model"
   ]
  },
  {
   "cell_type": "markdown",
   "metadata": {},
   "source": [
    "Regularization is a important technique in machine learning to prevent overfitting(model is too trained on training data and \n",
    "it does not generalize well on new data).\n",
    "\n",
    "there are two types of regulaization:L1 and L2\n",
    "\n",
    "L1 is the sum of the absolute value of the weights\n",
    "\n",
    "\n",
    "L2 is the sum of the square of the weights"
   ]
  },
  {
   "cell_type": "markdown",
   "metadata": {},
   "source": [
    "### for regulaization to work properly,we need to ensure that all our features are on same scale,\n",
    "### that's why feature scaling is important"
   ]
  },
  {
   "cell_type": "markdown",
   "metadata": {},
   "source": [
    "the cost function for logistic regression can be regularized by adding a simple regularization term,which will shrink the\n",
    "weights during model training"
   ]
  },
  {
   "cell_type": "markdown",
   "metadata": {},
   "source": [
    "<img src='images/cost_f.png' width='60%' height='60%'/>"
   ]
  },
  {
   "cell_type": "markdown",
   "metadata": {},
   "source": [
    "Via the regularization parameter **lambda**, we can then control how well we fit the training data while keeping the weights small. By increasing the value of **lambda**, we increase the regularization strength."
   ]
  },
  {
   "cell_type": "markdown",
   "metadata": {},
   "source": [
    "The term C is directly related to the regularization parameter **lambda** which is its inverse. Consequently, decreasing the value of the inverse regularization parameter C means that we are increasing the regularization strength,"
   ]
  },
  {
   "cell_type": "markdown",
   "metadata": {},
   "source": [
    "which we can visualize by plotting the L2-regularization path for the two weight coefficients"
   ]
  },
  {
   "cell_type": "code",
   "execution_count": 3,
   "metadata": {},
   "outputs": [],
   "source": [
    "from sklearn.datasets import load_iris\n",
    "\n",
    "iris = load_iris()"
   ]
  },
  {
   "cell_type": "code",
   "execution_count": 4,
   "metadata": {},
   "outputs": [],
   "source": [
    "X = iris.data[:,2:]\n",
    "y = iris.target"
   ]
  },
  {
   "cell_type": "code",
   "execution_count": 5,
   "metadata": {},
   "outputs": [
    {
     "data": {
      "text/plain": [
       "(150, 2)"
      ]
     },
     "execution_count": 5,
     "metadata": {},
     "output_type": "execute_result"
    }
   ],
   "source": [
    "X.shape"
   ]
  },
  {
   "cell_type": "code",
   "execution_count": 6,
   "metadata": {},
   "outputs": [],
   "source": [
    "from sklearn.preprocessing import StandardScaler"
   ]
  },
  {
   "cell_type": "code",
   "execution_count": 7,
   "metadata": {},
   "outputs": [],
   "source": [
    "sc = StandardScaler()\n",
    "x_std=sc.fit_transform(X)"
   ]
  },
  {
   "cell_type": "code",
   "execution_count": 8,
   "metadata": {},
   "outputs": [],
   "source": [
    "from sklearn.linear_model import LogisticRegression"
   ]
  },
  {
   "cell_type": "code",
   "execution_count": 12,
   "metadata": {},
   "outputs": [],
   "source": [
    "import matplotlib.pyplot as plt\n",
    "import numpy as np"
   ]
  },
  {
   "cell_type": "code",
   "execution_count": 13,
   "metadata": {},
   "outputs": [
    {
     "data": {
      "image/png": "[encoded data removed]",
      "text/plain": [
       "<matplotlib.figure.Figure at 0x21c783ac6d8>"
      ]
     },
     "metadata": {},
     "output_type": "display_data"
    }
   ],
   "source": [
    "weights, params = [], [] \n",
    "for c in np.arange(-5, 5):\n",
    "    lr = LogisticRegression(C=10.**c, random_state=1) \n",
    "    lr.fit(x_std, y)\n",
    "    weights.append(lr.coef_[1])\n",
    "    params.append(10.**c) \n",
    "weights = np.array(weights)\n",
    "plt.plot(params, weights[:, 0],label='petal length') \n",
    "plt.plot(params, weights[:, 1], linestyle='--',label='petal width')\n",
    "plt.ylabel('weight coefficient') \n",
    "plt.xlabel('C')\n",
    "plt.legend(loc='upper left') \n",
    "plt.xscale('log')\n",
    "plt.show() "
   ]
  },
  {
   "cell_type": "markdown",
   "metadata": {},
   "source": [
    "we fitted ten logistic regression models with different values for the inverse-regularization parameter C. \n",
    "if we decrease parameter C, this will increase the regularization strength"
   ]
  },
  {
   "cell_type": "code",
   "execution_count": 15,
   "metadata": {},
   "outputs": [],
   "source": [
    "from sklearn.model_selection import train_test_split\n",
    "X_train,X_test,y_train,y_test = train_test_split(X,y,test_size=.20,random_state=10)\n",
    "\n",
    "sc= StandardScaler()\n",
    "X_train_std = sc.fit_transform(X_train)\n",
    "X_test_std = sc.transform(X_test)"
   ]
  },
  {
   "cell_type": "code",
   "execution_count": 20,
   "metadata": {},
   "outputs": [
    {
     "name": "stdout",
     "output_type": "stream",
     "text": [
      "train: 0.6916666666666667\n",
      "test: 0.5666666666666667\n",
      "C: 1e-05\n",
      "\n",
      "train: 0.6916666666666667\n",
      "test: 0.5666666666666667\n",
      "C: 0.0001\n",
      "\n",
      "train: 0.6916666666666667\n",
      "test: 0.5666666666666667\n",
      "C: 0.001\n",
      "\n",
      "train: 0.6916666666666667\n",
      "test: 0.5666666666666667\n",
      "C: 0.01\n",
      "\n",
      "train: 0.7333333333333333\n",
      "test: 0.6\n",
      "C: 0.1\n",
      "\n",
      "train: 0.8833333333333333\n",
      "test: 0.9\n",
      "C: 1.0\n",
      "\n",
      "train: 0.9416666666666667\n",
      "test: 1.0\n",
      "C: 10.0\n",
      "\n",
      "train: 0.95\n",
      "test: 1.0\n",
      "C: 100.0\n",
      "\n",
      "train: 0.95\n",
      "test: 1.0\n",
      "C: 1000.0\n",
      "\n",
      "train: 0.95\n",
      "test: 1.0\n",
      "C: 10000.0\n",
      "\n"
     ]
    }
   ],
   "source": [
    "for c in np.arange(-5, 5):\n",
    "    lr = LogisticRegression(C=10.**c, random_state=1) \n",
    "    lr.fit(X_train_std, y_train)\n",
    "    print ('train:',lr.score(X_train_std,y_train))\n",
    "    print ('test:',lr.score(X_test_std,y_test))\n",
    "    print ('C:',10.0**c)\n",
    "    print ()"
   ]
  },
  {
   "cell_type": "code",
   "execution_count": null,
   "metadata": {},
   "outputs": [],
   "source": []
  }
 ],
 "metadata": {
  "kernelspec": {
   "display_name": "Python 3",
   "language": "python",
   "name": "python3"
  },
  "language_info": {
   "codemirror_mode": {
    "name": "ipython",
    "version": 3
   },
   "file_extension": ".py",
   "mimetype": "text/x-python",
   "name": "python",
   "nbconvert_exporter": "python",
   "pygments_lexer": "ipython3",
   "version": "3.6.4"
  }
 },
 "nbformat": 4,
 "nbformat_minor": 2
}
