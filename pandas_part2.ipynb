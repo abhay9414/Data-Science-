{
 "cells": [
  {
   "cell_type": "markdown",
   "metadata": {},
   "source": [
    "## Movies rating dataset"
   ]
  },
  {
   "cell_type": "code",
   "execution_count": 1,
   "metadata": {},
   "outputs": [],
   "source": [
    "import pandas as pd "
   ]
  },
  {
   "cell_type": "code",
   "execution_count": 2,
   "metadata": {},
   "outputs": [
    {
     "data": {
      "text/html": [
       "<div>\n",
       "<style scoped>\n",
       "    .dataframe tbody tr th:only-of-type {\n",
       "        vertical-align: middle;\n",
       "    }\n",
       "\n",
       "    .dataframe tbody tr th {\n",
       "        vertical-align: top;\n",
       "    }\n",
       "\n",
       "    .dataframe thead th {\n",
       "        text-align: right;\n",
       "    }\n",
       "</style>\n",
       "<table border=\"1\" class=\"dataframe\">\n",
       "  <thead>\n",
       "    <tr style=\"text-align: right;\">\n",
       "      <th></th>\n",
       "      <th>star_rating</th>\n",
       "      <th>title</th>\n",
       "      <th>content_rating</th>\n",
       "      <th>genre</th>\n",
       "      <th>duration</th>\n",
       "      <th>actors_list</th>\n",
       "    </tr>\n",
       "  </thead>\n",
       "  <tbody>\n",
       "    <tr>\n",
       "      <th>100</th>\n",
       "      <td>8.3</td>\n",
       "      <td>The Treasure of the Sierra Madre</td>\n",
       "      <td>NOT RATED</td>\n",
       "      <td>Action</td>\n",
       "      <td>126</td>\n",
       "      <td>[u'Humphrey Bogart', u'Walter Huston', u'Tim H...</td>\n",
       "    </tr>\n",
       "    <tr>\n",
       "      <th>101</th>\n",
       "      <td>8.3</td>\n",
       "      <td>Monty Python and the Holy Grail</td>\n",
       "      <td>PG</td>\n",
       "      <td>Adventure</td>\n",
       "      <td>91</td>\n",
       "      <td>[u'Graham Chapman', u'John Cleese', u'Eric Idle']</td>\n",
       "    </tr>\n",
       "    <tr>\n",
       "      <th>102</th>\n",
       "      <td>8.3</td>\n",
       "      <td>Full Metal Jacket</td>\n",
       "      <td>R</td>\n",
       "      <td>Drama</td>\n",
       "      <td>116</td>\n",
       "      <td>[u'Matthew Modine', u'R. Lee Ermey', u\"Vincent...</td>\n",
       "    </tr>\n",
       "    <tr>\n",
       "      <th>103</th>\n",
       "      <td>8.3</td>\n",
       "      <td>The Apartment</td>\n",
       "      <td>APPROVED</td>\n",
       "      <td>Comedy</td>\n",
       "      <td>125</td>\n",
       "      <td>[u'Jack Lemmon', u'Shirley MacLaine', u'Fred M...</td>\n",
       "    </tr>\n",
       "    <tr>\n",
       "      <th>104</th>\n",
       "      <td>8.3</td>\n",
       "      <td>Ikiru</td>\n",
       "      <td>NOT RATED</td>\n",
       "      <td>Drama</td>\n",
       "      <td>143</td>\n",
       "      <td>[u'Takashi Shimura', u'Nobuo Kaneko', u\"Shin'i...</td>\n",
       "    </tr>\n",
       "    <tr>\n",
       "      <th>105</th>\n",
       "      <td>8.3</td>\n",
       "      <td>The Third Man</td>\n",
       "      <td>NOT RATED</td>\n",
       "      <td>Film-Noir</td>\n",
       "      <td>93</td>\n",
       "      <td>[u'Orson Welles', u'Joseph Cotten', u'Alida Va...</td>\n",
       "    </tr>\n",
       "    <tr>\n",
       "      <th>106</th>\n",
       "      <td>8.3</td>\n",
       "      <td>Snatch.</td>\n",
       "      <td>R</td>\n",
       "      <td>Comedy</td>\n",
       "      <td>102</td>\n",
       "      <td>[u'Jason Statham', u'Brad Pitt', u'Benicio Del...</td>\n",
       "    </tr>\n",
       "    <tr>\n",
       "      <th>107</th>\n",
       "      <td>8.3</td>\n",
       "      <td>For a Few Dollars More</td>\n",
       "      <td>APPROVED</td>\n",
       "      <td>Western</td>\n",
       "      <td>132</td>\n",
       "      <td>[u'Clint Eastwood', u'Lee Van Cleef', u'Gian M...</td>\n",
       "    </tr>\n",
       "    <tr>\n",
       "      <th>108</th>\n",
       "      <td>8.3</td>\n",
       "      <td>Metropolis</td>\n",
       "      <td>NOT RATED</td>\n",
       "      <td>Drama</td>\n",
       "      <td>153</td>\n",
       "      <td>[u'Brigitte Helm', u'Alfred Abel', u'Gustav Fr...</td>\n",
       "    </tr>\n",
       "    <tr>\n",
       "      <th>109</th>\n",
       "      <td>8.3</td>\n",
       "      <td>Dil Chahta Hai</td>\n",
       "      <td>NOT RATED</td>\n",
       "      <td>Comedy</td>\n",
       "      <td>183</td>\n",
       "      <td>[u'Aamir Khan', u'Saif Ali Khan', u'Akshaye Kh...</td>\n",
       "    </tr>\n",
       "    <tr>\n",
       "      <th>110</th>\n",
       "      <td>8.3</td>\n",
       "      <td>2001: A Space Odyssey</td>\n",
       "      <td>G</td>\n",
       "      <td>Mystery</td>\n",
       "      <td>160</td>\n",
       "      <td>[u'Keir Dullea', u'Gary Lockwood', u'William S...</td>\n",
       "    </tr>\n",
       "    <tr>\n",
       "      <th>111</th>\n",
       "      <td>8.3</td>\n",
       "      <td>Some Like It Hot</td>\n",
       "      <td>NOT RATED</td>\n",
       "      <td>Comedy</td>\n",
       "      <td>120</td>\n",
       "      <td>[u'Marilyn Monroe', u'Tony Curtis', u'Jack Lem...</td>\n",
       "    </tr>\n",
       "    <tr>\n",
       "      <th>112</th>\n",
       "      <td>8.3</td>\n",
       "      <td>L.A. Confidential</td>\n",
       "      <td>R</td>\n",
       "      <td>Crime</td>\n",
       "      <td>138</td>\n",
       "      <td>[u'Kevin Spacey', u'Russell Crowe', u'Guy Pear...</td>\n",
       "    </tr>\n",
       "    <tr>\n",
       "      <th>113</th>\n",
       "      <td>8.3</td>\n",
       "      <td>Batman Begins</td>\n",
       "      <td>PG-13</td>\n",
       "      <td>Action</td>\n",
       "      <td>140</td>\n",
       "      <td>[u'Christian Bale', u'Michael Caine', u'Ken Wa...</td>\n",
       "    </tr>\n",
       "    <tr>\n",
       "      <th>114</th>\n",
       "      <td>8.3</td>\n",
       "      <td>Inglourious Basterds</td>\n",
       "      <td>R</td>\n",
       "      <td>Adventure</td>\n",
       "      <td>153</td>\n",
       "      <td>[u'Brad Pitt', u'Diane Kruger', u'Eli Roth']</td>\n",
       "    </tr>\n",
       "    <tr>\n",
       "      <th>115</th>\n",
       "      <td>8.3</td>\n",
       "      <td>Scarface</td>\n",
       "      <td>R</td>\n",
       "      <td>Crime</td>\n",
       "      <td>170</td>\n",
       "      <td>[u'Al Pacino', u'Michelle Pfeiffer', u'Steven ...</td>\n",
       "    </tr>\n",
       "    <tr>\n",
       "      <th>116</th>\n",
       "      <td>8.3</td>\n",
       "      <td>Mr. Smith Goes to Washington</td>\n",
       "      <td>NOT RATED</td>\n",
       "      <td>Drama</td>\n",
       "      <td>129</td>\n",
       "      <td>[u'James Stewart', u'Jean Arthur', u'Claude Ra...</td>\n",
       "    </tr>\n",
       "    <tr>\n",
       "      <th>117</th>\n",
       "      <td>8.3</td>\n",
       "      <td>Toy Story</td>\n",
       "      <td>G</td>\n",
       "      <td>Animation</td>\n",
       "      <td>81</td>\n",
       "      <td>[u'Tom Hanks', u'Tim Allen', u'Don Rickles']</td>\n",
       "    </tr>\n",
       "    <tr>\n",
       "      <th>118</th>\n",
       "      <td>8.3</td>\n",
       "      <td>Indiana Jones and the Last Crusade</td>\n",
       "      <td>PG-13</td>\n",
       "      <td>Action</td>\n",
       "      <td>127</td>\n",
       "      <td>[u'Harrison Ford', u'Sean Connery', u'Alison D...</td>\n",
       "    </tr>\n",
       "    <tr>\n",
       "      <th>119</th>\n",
       "      <td>8.3</td>\n",
       "      <td>Unforgiven</td>\n",
       "      <td>R</td>\n",
       "      <td>Western</td>\n",
       "      <td>131</td>\n",
       "      <td>[u'Clint Eastwood', u'Gene Hackman', u'Morgan ...</td>\n",
       "    </tr>\n",
       "    <tr>\n",
       "      <th>120</th>\n",
       "      <td>8.3</td>\n",
       "      <td>The Great Escape</td>\n",
       "      <td>UNRATED</td>\n",
       "      <td>Adventure</td>\n",
       "      <td>172</td>\n",
       "      <td>[u'Steve McQueen', u'James Garner', u'Richard ...</td>\n",
       "    </tr>\n",
       "    <tr>\n",
       "      <th>121</th>\n",
       "      <td>8.3</td>\n",
       "      <td>Jagten</td>\n",
       "      <td>R</td>\n",
       "      <td>Drama</td>\n",
       "      <td>115</td>\n",
       "      <td>[u'Mads Mikkelsen', u'Thomas Bo Larsen', u'Ann...</td>\n",
       "    </tr>\n",
       "    <tr>\n",
       "      <th>122</th>\n",
       "      <td>8.3</td>\n",
       "      <td>On the Waterfront</td>\n",
       "      <td>NOT RATED</td>\n",
       "      <td>Crime</td>\n",
       "      <td>108</td>\n",
       "      <td>[u'Marlon Brando', u'Karl Malden', u'Lee J. Co...</td>\n",
       "    </tr>\n",
       "    <tr>\n",
       "      <th>123</th>\n",
       "      <td>8.3</td>\n",
       "      <td>The General</td>\n",
       "      <td>UNRATED</td>\n",
       "      <td>Action</td>\n",
       "      <td>107</td>\n",
       "      <td>[u'Buster Keaton', u'Marion Mack', u'Glen Cave...</td>\n",
       "    </tr>\n",
       "    <tr>\n",
       "      <th>124</th>\n",
       "      <td>8.3</td>\n",
       "      <td>Raging Bull</td>\n",
       "      <td>R</td>\n",
       "      <td>Biography</td>\n",
       "      <td>129</td>\n",
       "      <td>[u'Robert De Niro', u'Cathy Moriarty', u'Joe P...</td>\n",
       "    </tr>\n",
       "    <tr>\n",
       "      <th>125</th>\n",
       "      <td>8.3</td>\n",
       "      <td>Downfall</td>\n",
       "      <td>R</td>\n",
       "      <td>Biography</td>\n",
       "      <td>156</td>\n",
       "      <td>[u'Bruno Ganz', u'Alexandra Maria Lara', u'Ulr...</td>\n",
       "    </tr>\n",
       "    <tr>\n",
       "      <th>126</th>\n",
       "      <td>8.3</td>\n",
       "      <td>Up</td>\n",
       "      <td>PG</td>\n",
       "      <td>Animation</td>\n",
       "      <td>96</td>\n",
       "      <td>[u'Edward Asner', u'Jordan Nagai', u'John Ratz...</td>\n",
       "    </tr>\n",
       "    <tr>\n",
       "      <th>127</th>\n",
       "      <td>8.3</td>\n",
       "      <td>Wild Strawberries</td>\n",
       "      <td>UNRATED</td>\n",
       "      <td>Drama</td>\n",
       "      <td>91</td>\n",
       "      <td>[u'Victor Sj\\xf6str\\xf6m', u'Bibi Andersson', ...</td>\n",
       "    </tr>\n",
       "    <tr>\n",
       "      <th>128</th>\n",
       "      <td>8.3</td>\n",
       "      <td>The Gold Rush</td>\n",
       "      <td>NOT RATED</td>\n",
       "      <td>Adventure</td>\n",
       "      <td>95</td>\n",
       "      <td>[u'Charles Chaplin', u'Mack Swain', u'Tom Murr...</td>\n",
       "    </tr>\n",
       "    <tr>\n",
       "      <th>129</th>\n",
       "      <td>8.3</td>\n",
       "      <td>Ran</td>\n",
       "      <td>R</td>\n",
       "      <td>Action</td>\n",
       "      <td>162</td>\n",
       "      <td>[u'Tatsuya Nakadai', u'Akira Terao', u'Jinpach...</td>\n",
       "    </tr>\n",
       "    <tr>\n",
       "      <th>...</th>\n",
       "      <td>...</td>\n",
       "      <td>...</td>\n",
       "      <td>...</td>\n",
       "      <td>...</td>\n",
       "      <td>...</td>\n",
       "      <td>...</td>\n",
       "    </tr>\n",
       "    <tr>\n",
       "      <th>170</th>\n",
       "      <td>8.2</td>\n",
       "      <td>A Beautiful Mind</td>\n",
       "      <td>PG-13</td>\n",
       "      <td>Biography</td>\n",
       "      <td>135</td>\n",
       "      <td>[u'Russell Crowe', u'Ed Harris', u'Jennifer Co...</td>\n",
       "    </tr>\n",
       "    <tr>\n",
       "      <th>171</th>\n",
       "      <td>8.2</td>\n",
       "      <td>Dial M for Murder</td>\n",
       "      <td>PG</td>\n",
       "      <td>Crime</td>\n",
       "      <td>105</td>\n",
       "      <td>[u'Ray Milland', u'Grace Kelly', u'Robert Cumm...</td>\n",
       "    </tr>\n",
       "    <tr>\n",
       "      <th>172</th>\n",
       "      <td>8.2</td>\n",
       "      <td>Trainspotting</td>\n",
       "      <td>R</td>\n",
       "      <td>Drama</td>\n",
       "      <td>94</td>\n",
       "      <td>[u'Ewan McGregor', u'Ewen Bremner', u'Jonny Le...</td>\n",
       "    </tr>\n",
       "    <tr>\n",
       "      <th>173</th>\n",
       "      <td>8.2</td>\n",
       "      <td>Tae Guk Gi: The Brotherhood of War</td>\n",
       "      <td>R</td>\n",
       "      <td>Action</td>\n",
       "      <td>140</td>\n",
       "      <td>[u'Dong-gun Jang', u'Bin Won', u'Eun-ju Lee']</td>\n",
       "    </tr>\n",
       "    <tr>\n",
       "      <th>174</th>\n",
       "      <td>8.2</td>\n",
       "      <td>Persona</td>\n",
       "      <td>NOT RATED</td>\n",
       "      <td>Drama</td>\n",
       "      <td>83</td>\n",
       "      <td>[u'Bibi Andersson', u'Liv Ullmann', u'Margaret...</td>\n",
       "    </tr>\n",
       "    <tr>\n",
       "      <th>175</th>\n",
       "      <td>8.2</td>\n",
       "      <td>Touch of Evil</td>\n",
       "      <td>PG-13</td>\n",
       "      <td>Crime</td>\n",
       "      <td>95</td>\n",
       "      <td>[u'Charlton Heston', u'Orson Welles', u'Janet ...</td>\n",
       "    </tr>\n",
       "    <tr>\n",
       "      <th>176</th>\n",
       "      <td>8.2</td>\n",
       "      <td>Fargo</td>\n",
       "      <td>R</td>\n",
       "      <td>Crime</td>\n",
       "      <td>98</td>\n",
       "      <td>[u'William H. Macy', u'Frances McDormand', u'S...</td>\n",
       "    </tr>\n",
       "    <tr>\n",
       "      <th>177</th>\n",
       "      <td>8.2</td>\n",
       "      <td>The Avengers</td>\n",
       "      <td>PG-13</td>\n",
       "      <td>Action</td>\n",
       "      <td>143</td>\n",
       "      <td>[u'Robert Downey Jr.', u'Chris Evans', u'Scarl...</td>\n",
       "    </tr>\n",
       "    <tr>\n",
       "      <th>178</th>\n",
       "      <td>8.2</td>\n",
       "      <td>The 400 Blows</td>\n",
       "      <td>NOT RATED</td>\n",
       "      <td>Crime</td>\n",
       "      <td>99</td>\n",
       "      <td>[u'Jean-Pierre L\\xe9aud', u'Albert R\\xe9my', u...</td>\n",
       "    </tr>\n",
       "    <tr>\n",
       "      <th>179</th>\n",
       "      <td>8.2</td>\n",
       "      <td>The Princess Bride</td>\n",
       "      <td>PG</td>\n",
       "      <td>Adventure</td>\n",
       "      <td>98</td>\n",
       "      <td>[u'Cary Elwes', u'Mandy Patinkin', u'Robin Wri...</td>\n",
       "    </tr>\n",
       "    <tr>\n",
       "      <th>180</th>\n",
       "      <td>8.2</td>\n",
       "      <td>Hotel Rwanda</td>\n",
       "      <td>PG-13</td>\n",
       "      <td>Drama</td>\n",
       "      <td>121</td>\n",
       "      <td>[u'Don Cheadle', u'Sophie Okonedo', u'Joaquin ...</td>\n",
       "    </tr>\n",
       "    <tr>\n",
       "      <th>181</th>\n",
       "      <td>8.2</td>\n",
       "      <td>Stalker</td>\n",
       "      <td>NOT RATED</td>\n",
       "      <td>Drama</td>\n",
       "      <td>163</td>\n",
       "      <td>[u'Alisa Freyndlikh', u'Aleksandr Kaydanovskiy...</td>\n",
       "    </tr>\n",
       "    <tr>\n",
       "      <th>182</th>\n",
       "      <td>8.2</td>\n",
       "      <td>The Battle of Algiers</td>\n",
       "      <td>NOT RATED</td>\n",
       "      <td>Crime</td>\n",
       "      <td>121</td>\n",
       "      <td>[u'Brahim Hadjadj', u'Jean Martin', u'Yacef Sa...</td>\n",
       "    </tr>\n",
       "    <tr>\n",
       "      <th>183</th>\n",
       "      <td>8.2</td>\n",
       "      <td>Underground</td>\n",
       "      <td>NOT RATED</td>\n",
       "      <td>Comedy</td>\n",
       "      <td>167</td>\n",
       "      <td>[u'Predrag Manojlovic', u'Lazar Ristovski', u'...</td>\n",
       "    </tr>\n",
       "    <tr>\n",
       "      <th>184</th>\n",
       "      <td>8.2</td>\n",
       "      <td>Fanny and Alexander</td>\n",
       "      <td>R</td>\n",
       "      <td>Drama</td>\n",
       "      <td>188</td>\n",
       "      <td>[u'Bertil Guve', u'Pernilla Allwin', u'Kristin...</td>\n",
       "    </tr>\n",
       "    <tr>\n",
       "      <th>185</th>\n",
       "      <td>8.2</td>\n",
       "      <td>Network</td>\n",
       "      <td>R</td>\n",
       "      <td>Drama</td>\n",
       "      <td>121</td>\n",
       "      <td>[u'Faye Dunaway', u'William Holden', u'Peter F...</td>\n",
       "    </tr>\n",
       "    <tr>\n",
       "      <th>186</th>\n",
       "      <td>8.2</td>\n",
       "      <td>The Thing</td>\n",
       "      <td>R</td>\n",
       "      <td>Horror</td>\n",
       "      <td>109</td>\n",
       "      <td>[u'Kurt Russell', u'Wilford Brimley', u'Keith ...</td>\n",
       "    </tr>\n",
       "    <tr>\n",
       "      <th>187</th>\n",
       "      <td>8.2</td>\n",
       "      <td>Butch Cassidy and the Sundance Kid</td>\n",
       "      <td>NaN</td>\n",
       "      <td>Biography</td>\n",
       "      <td>110</td>\n",
       "      <td>[u'Paul Newman', u'Robert Redford', u'Katharin...</td>\n",
       "    </tr>\n",
       "    <tr>\n",
       "      <th>188</th>\n",
       "      <td>8.2</td>\n",
       "      <td>The Grapes of Wrath</td>\n",
       "      <td>NOT RATED</td>\n",
       "      <td>Drama</td>\n",
       "      <td>129</td>\n",
       "      <td>[u'Henry Fonda', u'Jane Darwell', u'John Carra...</td>\n",
       "    </tr>\n",
       "    <tr>\n",
       "      <th>189</th>\n",
       "      <td>8.2</td>\n",
       "      <td>Black Cat, White Cat</td>\n",
       "      <td>R</td>\n",
       "      <td>Comedy</td>\n",
       "      <td>127</td>\n",
       "      <td>[u'Bajram Severdzan', u'Srdjan Todorovic', u'B...</td>\n",
       "    </tr>\n",
       "    <tr>\n",
       "      <th>190</th>\n",
       "      <td>8.2</td>\n",
       "      <td>Life of Brian</td>\n",
       "      <td>R</td>\n",
       "      <td>Comedy</td>\n",
       "      <td>94</td>\n",
       "      <td>[u'Graham Chapman', u'John Cleese', u'Michael ...</td>\n",
       "    </tr>\n",
       "    <tr>\n",
       "      <th>191</th>\n",
       "      <td>8.2</td>\n",
       "      <td>The Sixth Sense</td>\n",
       "      <td>PG-13</td>\n",
       "      <td>Drama</td>\n",
       "      <td>107</td>\n",
       "      <td>[u'Bruce Willis', u'Haley Joel Osment', u'Toni...</td>\n",
       "    </tr>\n",
       "    <tr>\n",
       "      <th>192</th>\n",
       "      <td>8.2</td>\n",
       "      <td>Finding Nemo</td>\n",
       "      <td>G</td>\n",
       "      <td>Animation</td>\n",
       "      <td>100</td>\n",
       "      <td>[u'Albert Brooks', u'Ellen DeGeneres', u'Alexa...</td>\n",
       "    </tr>\n",
       "    <tr>\n",
       "      <th>193</th>\n",
       "      <td>8.2</td>\n",
       "      <td>Nausicaa of the Valley of the Wind</td>\n",
       "      <td>PG</td>\n",
       "      <td>Animation</td>\n",
       "      <td>117</td>\n",
       "      <td>[u'Sumi Shimamoto', u'Mahito Tsujimura', u'His...</td>\n",
       "    </tr>\n",
       "    <tr>\n",
       "      <th>194</th>\n",
       "      <td>8.1</td>\n",
       "      <td>Kingsman: The Secret Service</td>\n",
       "      <td>R</td>\n",
       "      <td>Action</td>\n",
       "      <td>129</td>\n",
       "      <td>[u'Colin Firth', u'Taron Egerton', u'Samuel L....</td>\n",
       "    </tr>\n",
       "    <tr>\n",
       "      <th>195</th>\n",
       "      <td>8.1</td>\n",
       "      <td>Platoon</td>\n",
       "      <td>R</td>\n",
       "      <td>Drama</td>\n",
       "      <td>120</td>\n",
       "      <td>[u'Charlie Sheen', u'Tom Berenger', u'Willem D...</td>\n",
       "    </tr>\n",
       "    <tr>\n",
       "      <th>196</th>\n",
       "      <td>8.1</td>\n",
       "      <td>Guardians of the Galaxy</td>\n",
       "      <td>PG-13</td>\n",
       "      <td>Action</td>\n",
       "      <td>121</td>\n",
       "      <td>[u'Chris Pratt', u'Vin Diesel', u'Bradley Coop...</td>\n",
       "    </tr>\n",
       "    <tr>\n",
       "      <th>197</th>\n",
       "      <td>8.1</td>\n",
       "      <td>In the Name of the Father</td>\n",
       "      <td>R</td>\n",
       "      <td>Biography</td>\n",
       "      <td>133</td>\n",
       "      <td>[u'Daniel Day-Lewis', u'Pete Postlethwaite', u...</td>\n",
       "    </tr>\n",
       "    <tr>\n",
       "      <th>198</th>\n",
       "      <td>8.1</td>\n",
       "      <td>Kill Bill: Vol. 1</td>\n",
       "      <td>R</td>\n",
       "      <td>Action</td>\n",
       "      <td>111</td>\n",
       "      <td>[u'Uma Thurman', u'David Carradine', u'Daryl H...</td>\n",
       "    </tr>\n",
       "    <tr>\n",
       "      <th>199</th>\n",
       "      <td>8.1</td>\n",
       "      <td>No Country for Old Men</td>\n",
       "      <td>R</td>\n",
       "      <td>Crime</td>\n",
       "      <td>122</td>\n",
       "      <td>[u'Tommy Lee Jones', u'Javier Bardem', u'Josh ...</td>\n",
       "    </tr>\n",
       "  </tbody>\n",
       "</table>\n",
       "<p>100 rows × 6 columns</p>\n",
       "</div>"
      ],
      "text/plain": [
       "     star_rating                               title content_rating  \\\n",
       "100          8.3    The Treasure of the Sierra Madre      NOT RATED   \n",
       "101          8.3     Monty Python and the Holy Grail             PG   \n",
       "102          8.3                   Full Metal Jacket              R   \n",
       "103          8.3                       The Apartment       APPROVED   \n",
       "104          8.3                               Ikiru      NOT RATED   \n",
       "105          8.3                       The Third Man      NOT RATED   \n",
       "106          8.3                             Snatch.              R   \n",
       "107          8.3              For a Few Dollars More       APPROVED   \n",
       "108          8.3                          Metropolis      NOT RATED   \n",
       "109          8.3                      Dil Chahta Hai      NOT RATED   \n",
       "110          8.3               2001: A Space Odyssey              G   \n",
       "111          8.3                    Some Like It Hot      NOT RATED   \n",
       "112          8.3                   L.A. Confidential              R   \n",
       "113          8.3                       Batman Begins          PG-13   \n",
       "114          8.3                Inglourious Basterds              R   \n",
       "115          8.3                            Scarface              R   \n",
       "116          8.3        Mr. Smith Goes to Washington      NOT RATED   \n",
       "117          8.3                           Toy Story              G   \n",
       "118          8.3  Indiana Jones and the Last Crusade          PG-13   \n",
       "119          8.3                          Unforgiven              R   \n",
       "120          8.3                    The Great Escape        UNRATED   \n",
       "121          8.3                              Jagten              R   \n",
       "122          8.3                   On the Waterfront      NOT RATED   \n",
       "123          8.3                         The General        UNRATED   \n",
       "124          8.3                         Raging Bull              R   \n",
       "125          8.3                            Downfall              R   \n",
       "126          8.3                                  Up             PG   \n",
       "127          8.3                   Wild Strawberries        UNRATED   \n",
       "128          8.3                       The Gold Rush      NOT RATED   \n",
       "129          8.3                                 Ran              R   \n",
       "..           ...                                 ...            ...   \n",
       "170          8.2                    A Beautiful Mind          PG-13   \n",
       "171          8.2                   Dial M for Murder             PG   \n",
       "172          8.2                       Trainspotting              R   \n",
       "173          8.2  Tae Guk Gi: The Brotherhood of War              R   \n",
       "174          8.2                             Persona      NOT RATED   \n",
       "175          8.2                       Touch of Evil          PG-13   \n",
       "176          8.2                               Fargo              R   \n",
       "177          8.2                        The Avengers          PG-13   \n",
       "178          8.2                       The 400 Blows      NOT RATED   \n",
       "179          8.2                  The Princess Bride             PG   \n",
       "180          8.2                        Hotel Rwanda          PG-13   \n",
       "181          8.2                             Stalker      NOT RATED   \n",
       "182          8.2               The Battle of Algiers      NOT RATED   \n",
       "183          8.2                         Underground      NOT RATED   \n",
       "184          8.2                 Fanny and Alexander              R   \n",
       "185          8.2                             Network              R   \n",
       "186          8.2                           The Thing              R   \n",
       "187          8.2  Butch Cassidy and the Sundance Kid            NaN   \n",
       "188          8.2                 The Grapes of Wrath      NOT RATED   \n",
       "189          8.2                Black Cat, White Cat              R   \n",
       "190          8.2                       Life of Brian              R   \n",
       "191          8.2                     The Sixth Sense          PG-13   \n",
       "192          8.2                        Finding Nemo              G   \n",
       "193          8.2  Nausicaa of the Valley of the Wind             PG   \n",
       "194          8.1        Kingsman: The Secret Service              R   \n",
       "195          8.1                             Platoon              R   \n",
       "196          8.1             Guardians of the Galaxy          PG-13   \n",
       "197          8.1           In the Name of the Father              R   \n",
       "198          8.1                   Kill Bill: Vol. 1              R   \n",
       "199          8.1              No Country for Old Men              R   \n",
       "\n",
       "         genre  duration                                        actors_list  \n",
       "100     Action       126  [u'Humphrey Bogart', u'Walter Huston', u'Tim H...  \n",
       "101  Adventure        91  [u'Graham Chapman', u'John Cleese', u'Eric Idle']  \n",
       "102      Drama       116  [u'Matthew Modine', u'R. Lee Ermey', u\"Vincent...  \n",
       "103     Comedy       125  [u'Jack Lemmon', u'Shirley MacLaine', u'Fred M...  \n",
       "104      Drama       143  [u'Takashi Shimura', u'Nobuo Kaneko', u\"Shin'i...  \n",
       "105  Film-Noir        93  [u'Orson Welles', u'Joseph Cotten', u'Alida Va...  \n",
       "106     Comedy       102  [u'Jason Statham', u'Brad Pitt', u'Benicio Del...  \n",
       "107    Western       132  [u'Clint Eastwood', u'Lee Van Cleef', u'Gian M...  \n",
       "108      Drama       153  [u'Brigitte Helm', u'Alfred Abel', u'Gustav Fr...  \n",
       "109     Comedy       183  [u'Aamir Khan', u'Saif Ali Khan', u'Akshaye Kh...  \n",
       "110    Mystery       160  [u'Keir Dullea', u'Gary Lockwood', u'William S...  \n",
       "111     Comedy       120  [u'Marilyn Monroe', u'Tony Curtis', u'Jack Lem...  \n",
       "112      Crime       138  [u'Kevin Spacey', u'Russell Crowe', u'Guy Pear...  \n",
       "113     Action       140  [u'Christian Bale', u'Michael Caine', u'Ken Wa...  \n",
       "114  Adventure       153       [u'Brad Pitt', u'Diane Kruger', u'Eli Roth']  \n",
       "115      Crime       170  [u'Al Pacino', u'Michelle Pfeiffer', u'Steven ...  \n",
       "116      Drama       129  [u'James Stewart', u'Jean Arthur', u'Claude Ra...  \n",
       "117  Animation        81       [u'Tom Hanks', u'Tim Allen', u'Don Rickles']  \n",
       "118     Action       127  [u'Harrison Ford', u'Sean Connery', u'Alison D...  \n",
       "119    Western       131  [u'Clint Eastwood', u'Gene Hackman', u'Morgan ...  \n",
       "120  Adventure       172  [u'Steve McQueen', u'James Garner', u'Richard ...  \n",
       "121      Drama       115  [u'Mads Mikkelsen', u'Thomas Bo Larsen', u'Ann...  \n",
       "122      Crime       108  [u'Marlon Brando', u'Karl Malden', u'Lee J. Co...  \n",
       "123     Action       107  [u'Buster Keaton', u'Marion Mack', u'Glen Cave...  \n",
       "124  Biography       129  [u'Robert De Niro', u'Cathy Moriarty', u'Joe P...  \n",
       "125  Biography       156  [u'Bruno Ganz', u'Alexandra Maria Lara', u'Ulr...  \n",
       "126  Animation        96  [u'Edward Asner', u'Jordan Nagai', u'John Ratz...  \n",
       "127      Drama        91  [u'Victor Sj\\xf6str\\xf6m', u'Bibi Andersson', ...  \n",
       "128  Adventure        95  [u'Charles Chaplin', u'Mack Swain', u'Tom Murr...  \n",
       "129     Action       162  [u'Tatsuya Nakadai', u'Akira Terao', u'Jinpach...  \n",
       "..         ...       ...                                                ...  \n",
       "170  Biography       135  [u'Russell Crowe', u'Ed Harris', u'Jennifer Co...  \n",
       "171      Crime       105  [u'Ray Milland', u'Grace Kelly', u'Robert Cumm...  \n",
       "172      Drama        94  [u'Ewan McGregor', u'Ewen Bremner', u'Jonny Le...  \n",
       "173     Action       140      [u'Dong-gun Jang', u'Bin Won', u'Eun-ju Lee']  \n",
       "174      Drama        83  [u'Bibi Andersson', u'Liv Ullmann', u'Margaret...  \n",
       "175      Crime        95  [u'Charlton Heston', u'Orson Welles', u'Janet ...  \n",
       "176      Crime        98  [u'William H. Macy', u'Frances McDormand', u'S...  \n",
       "177     Action       143  [u'Robert Downey Jr.', u'Chris Evans', u'Scarl...  \n",
       "178      Crime        99  [u'Jean-Pierre L\\xe9aud', u'Albert R\\xe9my', u...  \n",
       "179  Adventure        98  [u'Cary Elwes', u'Mandy Patinkin', u'Robin Wri...  \n",
       "180      Drama       121  [u'Don Cheadle', u'Sophie Okonedo', u'Joaquin ...  \n",
       "181      Drama       163  [u'Alisa Freyndlikh', u'Aleksandr Kaydanovskiy...  \n",
       "182      Crime       121  [u'Brahim Hadjadj', u'Jean Martin', u'Yacef Sa...  \n",
       "183     Comedy       167  [u'Predrag Manojlovic', u'Lazar Ristovski', u'...  \n",
       "184      Drama       188  [u'Bertil Guve', u'Pernilla Allwin', u'Kristin...  \n",
       "185      Drama       121  [u'Faye Dunaway', u'William Holden', u'Peter F...  \n",
       "186     Horror       109  [u'Kurt Russell', u'Wilford Brimley', u'Keith ...  \n",
       "187  Biography       110  [u'Paul Newman', u'Robert Redford', u'Katharin...  \n",
       "188      Drama       129  [u'Henry Fonda', u'Jane Darwell', u'John Carra...  \n",
       "189     Comedy       127  [u'Bajram Severdzan', u'Srdjan Todorovic', u'B...  \n",
       "190     Comedy        94  [u'Graham Chapman', u'John Cleese', u'Michael ...  \n",
       "191      Drama       107  [u'Bruce Willis', u'Haley Joel Osment', u'Toni...  \n",
       "192  Animation       100  [u'Albert Brooks', u'Ellen DeGeneres', u'Alexa...  \n",
       "193  Animation       117  [u'Sumi Shimamoto', u'Mahito Tsujimura', u'His...  \n",
       "194     Action       129  [u'Colin Firth', u'Taron Egerton', u'Samuel L....  \n",
       "195      Drama       120  [u'Charlie Sheen', u'Tom Berenger', u'Willem D...  \n",
       "196     Action       121  [u'Chris Pratt', u'Vin Diesel', u'Bradley Coop...  \n",
       "197  Biography       133  [u'Daniel Day-Lewis', u'Pete Postlethwaite', u...  \n",
       "198     Action       111  [u'Uma Thurman', u'David Carradine', u'Daryl H...  \n",
       "199      Crime       122  [u'Tommy Lee Jones', u'Javier Bardem', u'Josh ...  \n",
       "\n",
       "[100 rows x 6 columns]"
      ]
     },
     "execution_count": 2,
     "metadata": {},
     "output_type": "execute_result"
    }
   ],
   "source": [
    "movies = pd.read_csv('dataset/movies.csv')\n",
    "movies[100:200]"
   ]
  },
  {
   "cell_type": "code",
   "execution_count": 7,
   "metadata": {},
   "outputs": [
    {
     "data": {
      "text/html": [
       "<div>\n",
       "<style>\n",
       "    .dataframe thead tr:only-child th {\n",
       "        text-align: right;\n",
       "    }\n",
       "\n",
       "    .dataframe thead th {\n",
       "        text-align: left;\n",
       "    }\n",
       "\n",
       "    .dataframe tbody tr th {\n",
       "        vertical-align: top;\n",
       "    }\n",
       "</style>\n",
       "<table border=\"1\" class=\"dataframe\">\n",
       "  <thead>\n",
       "    <tr style=\"text-align: right;\">\n",
       "      <th></th>\n",
       "      <th>star_rating</th>\n",
       "      <th>title</th>\n",
       "      <th>content_rating</th>\n",
       "      <th>genre</th>\n",
       "      <th>duration</th>\n",
       "      <th>actors_list</th>\n",
       "    </tr>\n",
       "  </thead>\n",
       "  <tbody>\n",
       "    <tr>\n",
       "      <th>0</th>\n",
       "      <td>9.3</td>\n",
       "      <td>The Shawshank Redemption</td>\n",
       "      <td>R</td>\n",
       "      <td>Crime</td>\n",
       "      <td>142</td>\n",
       "      <td>[u'Tim Robbins', u'Morgan Freeman', u'Bob Gunt...</td>\n",
       "    </tr>\n",
       "    <tr>\n",
       "      <th>1</th>\n",
       "      <td>9.2</td>\n",
       "      <td>The Godfather</td>\n",
       "      <td>R</td>\n",
       "      <td>Crime</td>\n",
       "      <td>175</td>\n",
       "      <td>[u'Marlon Brando', u'Al Pacino', u'James Caan']</td>\n",
       "    </tr>\n",
       "    <tr>\n",
       "      <th>2</th>\n",
       "      <td>9.1</td>\n",
       "      <td>The Godfather: Part II</td>\n",
       "      <td>R</td>\n",
       "      <td>Crime</td>\n",
       "      <td>200</td>\n",
       "      <td>[u'Al Pacino', u'Robert De Niro', u'Robert Duv...</td>\n",
       "    </tr>\n",
       "    <tr>\n",
       "      <th>3</th>\n",
       "      <td>9.0</td>\n",
       "      <td>The Dark Knight</td>\n",
       "      <td>PG-13</td>\n",
       "      <td>Action</td>\n",
       "      <td>152</td>\n",
       "      <td>[u'Christian Bale', u'Heath Ledger', u'Aaron E...</td>\n",
       "    </tr>\n",
       "    <tr>\n",
       "      <th>4</th>\n",
       "      <td>8.9</td>\n",
       "      <td>Pulp Fiction</td>\n",
       "      <td>R</td>\n",
       "      <td>Crime</td>\n",
       "      <td>154</td>\n",
       "      <td>[u'John Travolta', u'Uma Thurman', u'Samuel L....</td>\n",
       "    </tr>\n",
       "  </tbody>\n",
       "</table>\n",
       "</div>"
      ],
      "text/plain": [
       "   star_rating                     title content_rating   genre  duration  \\\n",
       "0          9.3  The Shawshank Redemption              R   Crime       142   \n",
       "1          9.2             The Godfather              R   Crime       175   \n",
       "2          9.1    The Godfather: Part II              R   Crime       200   \n",
       "3          9.0           The Dark Knight          PG-13  Action       152   \n",
       "4          8.9              Pulp Fiction              R   Crime       154   \n",
       "\n",
       "                                         actors_list  \n",
       "0  [u'Tim Robbins', u'Morgan Freeman', u'Bob Gunt...  \n",
       "1    [u'Marlon Brando', u'Al Pacino', u'James Caan']  \n",
       "2  [u'Al Pacino', u'Robert De Niro', u'Robert Duv...  \n",
       "3  [u'Christian Bale', u'Heath Ledger', u'Aaron E...  \n",
       "4  [u'John Travolta', u'Uma Thurman', u'Samuel L....  "
      ]
     },
     "execution_count": 7,
     "metadata": {},
     "output_type": "execute_result"
    }
   ],
   "source": [
    "movies.head()"
   ]
  },
  {
   "cell_type": "code",
   "execution_count": 8,
   "metadata": {},
   "outputs": [
    {
     "data": {
      "text/plain": [
       "(979, 6)"
      ]
     },
     "execution_count": 8,
     "metadata": {},
     "output_type": "execute_result"
    }
   ],
   "source": [
    "movies.shape"
   ]
  },
  {
   "cell_type": "code",
   "execution_count": 9,
   "metadata": {},
   "outputs": [
    {
     "data": {
      "text/plain": [
       "star_rating       float64\n",
       "title              object\n",
       "content_rating     object\n",
       "genre              object\n",
       "duration            int64\n",
       "actors_list        object\n",
       "dtype: object"
      ]
     },
     "execution_count": 9,
     "metadata": {},
     "output_type": "execute_result"
    }
   ],
   "source": [
    "movies.dtypes"
   ]
  },
  {
   "cell_type": "code",
   "execution_count": 3,
   "metadata": {},
   "outputs": [],
   "source": [
    "import matplotlib.pyplot as plt\n",
    "%matplotlib inline"
   ]
  },
  {
   "cell_type": "code",
   "execution_count": 4,
   "metadata": {},
   "outputs": [
    {
     "data": {
      "text/plain": [
       "<matplotlib.axes._subplots.AxesSubplot at 0x17d34ccc2b0>"
      ]
     },
     "execution_count": 4,
     "metadata": {},
     "output_type": "execute_result"
    },
    {
     "data": {
      "image/png": "[encoded data removed]",
      "text/plain": [
       "<matplotlib.figure.Figure at 0x17d34b1fd30>"
      ]
     },
     "metadata": {},
     "output_type": "display_data"
    }
   ],
   "source": [
    "movies.genre.value_counts().plot(kind='bar')                 #genre is one of the attribute\n",
    "#plt.show()\n"
   ]
  },
  {
   "cell_type": "code",
   "execution_count": 6,
   "metadata": {},
   "outputs": [
    {
     "data": {
      "text/plain": [
       "(12, 6)"
      ]
     },
     "execution_count": 6,
     "metadata": {},
     "output_type": "execute_result"
    }
   ],
   "source": [
    "movies[movies['duration']>=200]\n",
    "movies[movies['duration']>=200].shape"
   ]
  },
  {
   "cell_type": "markdown",
   "metadata": {},
   "source": [
    "### find top 3 highest duration movies with 2 columns (movie name,duration)"
   ]
  },
  {
   "cell_type": "code",
   "execution_count": 9,
   "metadata": {},
   "outputs": [
    {
     "data": {
      "text/html": [
       "<div>\n",
       "<style scoped>\n",
       "    .dataframe tbody tr th:only-of-type {\n",
       "        vertical-align: middle;\n",
       "    }\n",
       "\n",
       "    .dataframe tbody tr th {\n",
       "        vertical-align: top;\n",
       "    }\n",
       "\n",
       "    .dataframe thead th {\n",
       "        text-align: right;\n",
       "    }\n",
       "</style>\n",
       "<table border=\"1\" class=\"dataframe\">\n",
       "  <thead>\n",
       "    <tr style=\"text-align: right;\">\n",
       "      <th></th>\n",
       "      <th>star_rating</th>\n",
       "      <th>title</th>\n",
       "      <th>content_rating</th>\n",
       "      <th>genre</th>\n",
       "      <th>duration</th>\n",
       "      <th>actors_list</th>\n",
       "    </tr>\n",
       "  </thead>\n",
       "  <tbody>\n",
       "    <tr>\n",
       "      <th>476</th>\n",
       "      <td>7.8</td>\n",
       "      <td>Hamlet</td>\n",
       "      <td>PG-13</td>\n",
       "      <td>Drama</td>\n",
       "      <td>242</td>\n",
       "      <td>[u'Kenneth Branagh', u'Julie Christie', u'Dere...</td>\n",
       "    </tr>\n",
       "    <tr>\n",
       "      <th>157</th>\n",
       "      <td>8.2</td>\n",
       "      <td>Gone with the Wind</td>\n",
       "      <td>G</td>\n",
       "      <td>Drama</td>\n",
       "      <td>238</td>\n",
       "      <td>[u'Clark Gable', u'Vivien Leigh', u'Thomas Mit...</td>\n",
       "    </tr>\n",
       "    <tr>\n",
       "      <th>78</th>\n",
       "      <td>8.4</td>\n",
       "      <td>Once Upon a Time in America</td>\n",
       "      <td>R</td>\n",
       "      <td>Crime</td>\n",
       "      <td>229</td>\n",
       "      <td>[u'Robert De Niro', u'James Woods', u'Elizabet...</td>\n",
       "    </tr>\n",
       "  </tbody>\n",
       "</table>\n",
       "</div>"
      ],
      "text/plain": [
       "     star_rating                        title content_rating  genre  duration  \\\n",
       "476          7.8                       Hamlet          PG-13  Drama       242   \n",
       "157          8.2           Gone with the Wind              G  Drama       238   \n",
       "78           8.4  Once Upon a Time in America              R  Crime       229   \n",
       "\n",
       "                                           actors_list  \n",
       "476  [u'Kenneth Branagh', u'Julie Christie', u'Dere...  \n",
       "157  [u'Clark Gable', u'Vivien Leigh', u'Thomas Mit...  \n",
       "78   [u'Robert De Niro', u'James Woods', u'Elizabet...  "
      ]
     },
     "execution_count": 9,
     "metadata": {},
     "output_type": "execute_result"
    }
   ],
   "source": [
    "movies.sort_values(by='duration',ascending=False)[:3]\n",
    "#movies.iloc[m,[1,4]]"
   ]
  },
  {
   "cell_type": "code",
   "execution_count": null,
   "metadata": {
    "collapsed": true
   },
   "outputs": [],
   "source": [
    "movies.loc[movies.sort_values('duration',ascending=False).index.tolist(),['title','duration']].head(3)"
   ]
  },
  {
   "cell_type": "code",
   "execution_count": null,
   "metadata": {
    "collapsed": true
   },
   "outputs": [],
   "source": [
    "m=movies.sort_values('duration',ascending=False).index.tolist()[:3]"
   ]
  },
  {
   "cell_type": "code",
   "execution_count": null,
   "metadata": {
    "collapsed": true
   },
   "outputs": [],
   "source": [
    "movies.iloc[m,[1,4]]"
   ]
  },
  {
   "cell_type": "code",
   "execution_count": null,
   "metadata": {
    "collapsed": true
   },
   "outputs": [],
   "source": [
    "#movies[(movies.genre=='Action') & (movies.star_rating>8.0)]"
   ]
  },
  {
   "cell_type": "code",
   "execution_count": null,
   "metadata": {
    "collapsed": true
   },
   "outputs": [],
   "source": [
    "movies[movies.actors_list.str.contains('Amir Khan',case=False)]"
   ]
  },
  {
   "cell_type": "code",
   "execution_count": null,
   "metadata": {
    "collapsed": true
   },
   "outputs": [],
   "source": [
    "movies.genre.value_counts()[['Drama','Crime','Action']]\n",
    "#movies.dtypes"
   ]
  },
  {
   "cell_type": "code",
   "execution_count": null,
   "metadata": {
    "collapsed": true
   },
   "outputs": [],
   "source": [
    "movies[(movies.duration >= 200) & ((movies.genre=='Drama') | (movies.genre=='Crime'))].head()"
   ]
  },
  {
   "cell_type": "code",
   "execution_count": null,
   "metadata": {
    "collapsed": true
   },
   "outputs": [],
   "source": [
    "movies.duration.sort_values(ascending=False)\n",
    "movies.sort_values('duration',ascending=False)"
   ]
  },
  {
   "cell_type": "code",
   "execution_count": null,
   "metadata": {
    "collapsed": true
   },
   "outputs": [],
   "source": [
    "import re\n",
    "\n",
    "def check(x):\n",
    "    m=re.search('^once',x,re.I)\n",
    "    if m:\n",
    "        return True\n",
    "    else:\n",
    "        return False\n",
    "    \n",
    "#movies[movies.title.str.startswith('Once')]\n",
    "movies[movies.title.apply(check)]\n",
    "\n",
    "#movies[movies.actors_list.str.contains('amir khan',case=False)]"
   ]
  },
  {
   "cell_type": "code",
   "execution_count": null,
   "metadata": {
    "collapsed": true
   },
   "outputs": [],
   "source": [
    "movies.isnull().sum()\n",
    "movies[movies.content_rating.isnull()]"
   ]
  },
  {
   "cell_type": "code",
   "execution_count": null,
   "metadata": {
    "collapsed": true
   },
   "outputs": [],
   "source": [
    "#movies.genre.value_counts()\n",
    "movies.select_dtypes(include=['object'])\n",
    "#movies.select_dtypes(exclude=['int64'])\n",
    "#movies.select_dtypes(include=['int64'])\n",
    "#movies.actors_list[0]\n"
   ]
  },
  {
   "cell_type": "code",
   "execution_count": null,
   "metadata": {
    "collapsed": true
   },
   "outputs": [],
   "source": [
    "movies[movies.genre.isin(['Drama','Crime','Action'])][:10]\n"
   ]
  },
  {
   "cell_type": "code",
   "execution_count": null,
   "metadata": {
    "collapsed": true
   },
   "outputs": [],
   "source": [
    "movies.iloc[-2]"
   ]
  },
  {
   "cell_type": "code",
   "execution_count": null,
   "metadata": {
    "collapsed": true
   },
   "outputs": [],
   "source": [
    "movies.iloc[64]"
   ]
  },
  {
   "cell_type": "code",
   "execution_count": null,
   "metadata": {
    "collapsed": true
   },
   "outputs": [],
   "source": [
    "movies[(movies['duration']>60) & (movies['duration']<70) ][:5]\n",
    "movies[movies.duration.isin(range(60,70))][:10]"
   ]
  },
  {
   "cell_type": "code",
   "execution_count": null,
   "metadata": {
    "collapsed": true
   },
   "outputs": [],
   "source": [
    "movies.sort_values('duration',ascending=False).head()"
   ]
  },
  {
   "cell_type": "code",
   "execution_count": null,
   "metadata": {
    "collapsed": true
   },
   "outputs": [],
   "source": [
    "#movies.sort_values(['content_rating','duration'])[:5]\n",
    "#movies.content_rating.value_counts()\n",
    "movies.duration.value_counts()"
   ]
  },
  {
   "cell_type": "code",
   "execution_count": null,
   "metadata": {
    "collapsed": true
   },
   "outputs": [],
   "source": [
    "movies.describe()\n",
    "movies.select_dtypes(include=['object']).describe()\n",
    "#movies.title.value_counts()"
   ]
  },
  {
   "cell_type": "code",
   "execution_count": null,
   "metadata": {
    "collapsed": true
   },
   "outputs": [],
   "source": [
    "movies.dtypes"
   ]
  },
  {
   "cell_type": "code",
   "execution_count": null,
   "metadata": {
    "collapsed": true
   },
   "outputs": [],
   "source": [
    "movies[movies.actors_list.str.contains('Aamir Khan')]"
   ]
  },
  {
   "cell_type": "code",
   "execution_count": null,
   "metadata": {
    "collapsed": true
   },
   "outputs": [],
   "source": [
    "movies.genre.value_counts()"
   ]
  },
  {
   "cell_type": "code",
   "execution_count": null,
   "metadata": {
    "collapsed": true
   },
   "outputs": [],
   "source": [
    "#EDA\n",
    "movies.genre.describe()"
   ]
  },
  {
   "cell_type": "code",
   "execution_count": 15,
   "metadata": {},
   "outputs": [
    {
     "data": {
      "text/plain": [
       "Drama        278\n",
       "Comedy       156\n",
       "Action       136\n",
       "Crime        124\n",
       "Biography     77\n",
       "Adventure     75\n",
       "Animation     62\n",
       "Horror        29\n",
       "Mystery       16\n",
       "Western        9\n",
       "Sci-Fi         5\n",
       "Thriller       5\n",
       "Film-Noir      3\n",
       "Family         2\n",
       "History        1\n",
       "Fantasy        1\n",
       "Name: genre, dtype: int64"
      ]
     },
     "execution_count": 15,
     "metadata": {},
     "output_type": "execute_result"
    }
   ],
   "source": [
    "movies.genre.unique()\n",
    "#movies.genre.value_counts()"
   ]
  },
  {
   "cell_type": "code",
   "execution_count": 13,
   "metadata": {},
   "outputs": [
    {
     "data": {
      "text/plain": [
       "16"
      ]
     },
     "execution_count": 13,
     "metadata": {},
     "output_type": "execute_result"
    }
   ],
   "source": [
    "movies.genre.nunique()"
   ]
  },
  {
   "cell_type": "code",
   "execution_count": 16,
   "metadata": {},
   "outputs": [
    {
     "data": {
      "text/plain": [
       "120.97957099080695"
      ]
     },
     "execution_count": 16,
     "metadata": {},
     "output_type": "execute_result"
    }
   ],
   "source": [
    "movies.duration.mean()"
   ]
  },
  {
   "cell_type": "code",
   "execution_count": 18,
   "metadata": {},
   "outputs": [
    {
     "data": {
      "text/plain": [
       "112    23\n",
       "113    22\n",
       "102    20\n",
       "101    20\n",
       "129    19\n",
       "120    18\n",
       "105    18\n",
       "126    18\n",
       "98     18\n",
       "130    18\n",
       "100    17\n",
       "121    17\n",
       "116    17\n",
       "124    16\n",
       "122    16\n",
       "118    16\n",
       "115    16\n",
       "96     16\n",
       "104    16\n",
       "110    16\n",
       "107    16\n",
       "109    16\n",
       "119    15\n",
       "114    15\n",
       "99     15\n",
       "108    15\n",
       "94     14\n",
       "117    14\n",
       "106    14\n",
       "93     14\n",
       "       ..\n",
       "70      1\n",
       "69      1\n",
       "67      1\n",
       "66      1\n",
       "242     1\n",
       "238     1\n",
       "195     1\n",
       "229     1\n",
       "224     1\n",
       "220     1\n",
       "216     1\n",
       "212     1\n",
       "207     1\n",
       "205     1\n",
       "202     1\n",
       "201     1\n",
       "200     1\n",
       "194     1\n",
       "159     1\n",
       "193     1\n",
       "187     1\n",
       "186     1\n",
       "184     1\n",
       "183     1\n",
       "182     1\n",
       "180     1\n",
       "177     1\n",
       "168     1\n",
       "166     1\n",
       "64      1\n",
       "Name: duration, Length: 133, dtype: int64"
      ]
     },
     "execution_count": 18,
     "metadata": {},
     "output_type": "execute_result"
    }
   ],
   "source": [
    "movies.duration.value_counts()\n",
    "movies['duration'].value_counts()"
   ]
  },
  {
   "cell_type": "code",
   "execution_count": 19,
   "metadata": {},
   "outputs": [],
   "source": [
    "%matplotlib inline\n",
    "#import matplotlib.pyplot as plt"
   ]
  },
  {
   "cell_type": "code",
   "execution_count": 21,
   "metadata": {},
   "outputs": [
    {
     "data": {
      "text/plain": [
       "<matplotlib.axes._subplots.AxesSubplot at 0x17d352fc400>"
      ]
     },
     "execution_count": 21,
     "metadata": {},
     "output_type": "execute_result"
    },
    {
     "data": {
      "image/png": "[encoded data removed]",
      "text/plain": [
       "<matplotlib.figure.Figure at 0x17d35354710>"
      ]
     },
     "metadata": {},
     "output_type": "display_data"
    }
   ],
   "source": [
    "movies.genre.value_counts().plot(kind='pie')"
   ]
  },
  {
   "cell_type": "code",
   "execution_count": null,
   "metadata": {
    "collapsed": true
   },
   "outputs": [],
   "source": [
    "m=movies[(movies.duration>100) & (movies.duration<150)]\n",
    "m.genre.value_counts().plot(kind='bar')"
   ]
  },
  {
   "cell_type": "code",
   "execution_count": 23,
   "metadata": {},
   "outputs": [
    {
     "data": {
      "text/plain": [
       "RangeIndex(start=0, stop=979, step=1)"
      ]
     },
     "execution_count": 23,
     "metadata": {},
     "output_type": "execute_result"
    }
   ],
   "source": [
    "movies.index"
   ]
  },
  {
   "cell_type": "code",
   "execution_count": 24,
   "metadata": {},
   "outputs": [
    {
     "data": {
      "text/plain": [
       "star_rating       0\n",
       "title             0\n",
       "content_rating    3\n",
       "genre             0\n",
       "duration          0\n",
       "actors_list       0\n",
       "dtype: int64"
      ]
     },
     "execution_count": 24,
     "metadata": {},
     "output_type": "execute_result"
    }
   ],
   "source": [
    "movies.isnull().sum()"
   ]
  },
  {
   "cell_type": "code",
   "execution_count": null,
   "metadata": {
    "collapsed": true
   },
   "outputs": [],
   "source": [
    "a=[3,4,5]"
   ]
  },
  {
   "cell_type": "code",
   "execution_count": null,
   "metadata": {
    "collapsed": true
   },
   "outputs": [],
   "source": [
    "z=a"
   ]
  },
  {
   "cell_type": "code",
   "execution_count": null,
   "metadata": {
    "collapsed": true
   },
   "outputs": [],
   "source": [
    "z.append(10)"
   ]
  },
  {
   "cell_type": "code",
   "execution_count": null,
   "metadata": {
    "collapsed": true
   },
   "outputs": [],
   "source": [
    "z"
   ]
  },
  {
   "cell_type": "code",
   "execution_count": null,
   "metadata": {
    "collapsed": true
   },
   "outputs": [],
   "source": [
    "a"
   ]
  },
  {
   "cell_type": "code",
   "execution_count": null,
   "metadata": {
    "collapsed": true
   },
   "outputs": [],
   "source": [
    "m=movies"
   ]
  },
  {
   "cell_type": "code",
   "execution_count": null,
   "metadata": {
    "collapsed": true
   },
   "outputs": [],
   "source": [
    "del m['duration']"
   ]
  },
  {
   "cell_type": "code",
   "execution_count": null,
   "metadata": {
    "collapsed": true
   },
   "outputs": [],
   "source": [
    "movies.head()"
   ]
  },
  {
   "cell_type": "code",
   "execution_count": null,
   "metadata": {
    "collapsed": true
   },
   "outputs": [],
   "source": [
    "movies[movies.content_rating.notnull()].shape"
   ]
  },
  {
   "cell_type": "code",
   "execution_count": null,
   "metadata": {
    "collapsed": true
   },
   "outputs": [],
   "source": [
    "movies[movies['content_rating'].isnull()]"
   ]
  },
  {
   "cell_type": "code",
   "execution_count": null,
   "metadata": {
    "collapsed": true
   },
   "outputs": [],
   "source": [
    "#movies.groupby('genre').size()\n",
    "movies.groupby('genre').count()"
   ]
  },
  {
   "cell_type": "code",
   "execution_count": 11,
   "metadata": {},
   "outputs": [
    {
     "data": {
      "text/plain": [
       "array([1.        , 1.41421356, 1.73205081, 2.        ])"
      ]
     },
     "execution_count": 11,
     "metadata": {},
     "output_type": "execute_result"
    }
   ],
   "source": [
    "import numpy as np\n",
    "x=np.array([1,2,3,4])\n",
    "x=x**0.5\n",
    "x"
   ]
  },
  {
   "cell_type": "code",
   "execution_count": null,
   "metadata": {},
   "outputs": [],
   "source": []
  }
 ],
 "metadata": {
  "kernelspec": {
   "display_name": "Python 3",
   "language": "python",
   "name": "python3"
  },
  "language_info": {
   "codemirror_mode": {
    "name": "ipython",
    "version": 3
   },
   "file_extension": ".py",
   "mimetype": "text/x-python",
   "name": "python",
   "nbconvert_exporter": "python",
   "pygments_lexer": "ipython3",
   "version": "3.6.4"
  }
 },
 "nbformat": 4,
 "nbformat_minor": 2
}
