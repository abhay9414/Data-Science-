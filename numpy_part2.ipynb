{
 "cells": [
  {
   "cell_type": "code",
   "execution_count": null,
   "metadata": {},
   "outputs": [],
   "source": [
    "import numpy as np"
   ]
  },
  {
   "cell_type": "code",
   "execution_count": null,
   "metadata": {},
   "outputs": [],
   "source": [
    "# creating array\n",
    "a=np.array((1,2,3,4))\n",
    "print (a)\n",
    "#print (type(a))\n",
    "print a.ndim\n",
    "a.size"
   ]
  },
  {
   "cell_type": "code",
   "execution_count": null,
   "metadata": {},
   "outputs": [],
   "source": [
    "b=np.array([5,6,7,8])\n",
    "#print a\n",
    "print b\n",
    "print a\n",
    "\n"
   ]
  },
  {
   "cell_type": "code",
   "execution_count": null,
   "metadata": {},
   "outputs": [],
   "source": [
    "print a\n",
    "print b+a\n",
    "print b-a\n",
    "print b/a\n",
    "print b**2\n",
    "print a**b\n"
   ]
  },
  {
   "cell_type": "code",
   "execution_count": null,
   "metadata": {},
   "outputs": [],
   "source": [
    "[1,2,3,4,5,6,7,8][-1::-1]"
   ]
  },
  {
   "cell_type": "code",
   "execution_count": null,
   "metadata": {},
   "outputs": [],
   "source": []
  },
  {
   "cell_type": "code",
   "execution_count": null,
   "metadata": {},
   "outputs": [],
   "source": [
    "#2D array\n",
    "b=np.array([[1,2,3],[4,5,6],[7,8,9]])\n",
    "print b\n",
    "\n",
    "print b.ndim\n",
    "b[-1::-2,[0,2]]\n",
    "#7 9\n",
    "#1 3"
   ]
  },
  {
   "cell_type": "code",
   "execution_count": null,
   "metadata": {},
   "outputs": [],
   "source": [
    "n=np.array([[[1,2,3,4,5],[1,2,3,4,5]]])\n",
    "print n\n",
    "n.ndim\n",
    "#m=n[:,-1]\n",
    "#m[m!=6]"
   ]
  },
  {
   "cell_type": "code",
   "execution_count": null,
   "metadata": {},
   "outputs": [],
   "source": [
    "#print n[1:,::2][-1::-1]\n",
    "n[-1:-3:-1,::2]"
   ]
  },
  {
   "cell_type": "code",
   "execution_count": null,
   "metadata": {},
   "outputs": [],
   "source": [
    " #n[-2::-1,-2::-1]\n",
    "#n[-2::-1,[0,2]]\n",
    "b"
   ]
  },
  {
   "cell_type": "code",
   "execution_count": null,
   "metadata": {},
   "outputs": [],
   "source": [
    "print b[1,:2] #row,column\n",
    "print b[:2,1:3]\n",
    "#print b[1,:]\n",
    "#print b[:2,0]\n",
    "print b[-1::-1,-2::-1]"
   ]
  },
  {
   "cell_type": "code",
   "execution_count": null,
   "metadata": {},
   "outputs": [],
   "source": [
    "#dtype\n",
    "print b.dtype\n"
   ]
  },
  {
   "cell_type": "code",
   "execution_count": null,
   "metadata": {},
   "outputs": [],
   "source": [
    "#reshape\n",
    "c=np.array(range(6))\n",
    "c.reshape(2,3)"
   ]
  },
  {
   "cell_type": "code",
   "execution_count": null,
   "metadata": {},
   "outputs": [],
   "source": [
    "c.resize(2,3)"
   ]
  },
  {
   "cell_type": "code",
   "execution_count": null,
   "metadata": {},
   "outputs": [],
   "source": [
    "c"
   ]
  },
  {
   "cell_type": "code",
   "execution_count": null,
   "metadata": {},
   "outputs": [],
   "source": [
    "# converted into list\n",
    "k=np.array([[1,2,3],[4,5,6]],dtype=np.int64)\n",
    "\n",
    "b=k.tolist()\n",
    "#print k\n",
    "print b\n",
    "#print b,type(b)\n",
    "c=k.flatten()\n",
    "#print c.tolist()\n",
    "print c\n",
    "#c.astype(np.float32)\n"
   ]
  },
  {
   "cell_type": "code",
   "execution_count": null,
   "metadata": {},
   "outputs": [],
   "source": [
    "n=[]\n",
    "for i in b:\n",
    "    for k in i:\n",
    "        n.append(k)\n",
    "n\n"
   ]
  },
  {
   "cell_type": "code",
   "execution_count": null,
   "metadata": {},
   "outputs": [],
   "source": [
    "import numpy as np\n",
    "\n",
    "a=np.array([1,2])\n",
    "b=np.array([1,2])\n",
    "c=np.array([1,2])"
   ]
  },
  {
   "cell_type": "code",
   "execution_count": null,
   "metadata": {},
   "outputs": [],
   "source": [
    "d=[]\n",
    "d.append(a)\n",
    "d.append(b)\n",
    "d.append(c)"
   ]
  },
  {
   "cell_type": "code",
   "execution_count": null,
   "metadata": {},
   "outputs": [],
   "source": [
    "d"
   ]
  },
  {
   "cell_type": "code",
   "execution_count": null,
   "metadata": {},
   "outputs": [],
   "source": [
    "x=np.asarray(d)"
   ]
  },
  {
   "cell_type": "code",
   "execution_count": null,
   "metadata": {},
   "outputs": [],
   "source": [
    "x.shape\n",
    "#np.concatenate()\n",
    "#np.hstack()\n",
    "\n",
    "x=np.array([[1,2],[3,4]])\n",
    "y =np.array([[5,6],[8,9]])\n",
    "\n",
    "print np.vstack((x,y))\n",
    "np.hstack((x,y))"
   ]
  },
  {
   "cell_type": "code",
   "execution_count": null,
   "metadata": {},
   "outputs": [],
   "source": [
    "# transpose of an array\n",
    "p=np.array(range(6)).reshape(2,3)\n",
    "print p\n",
    "\n",
    "print p.transpose()\n",
    "p.T"
   ]
  },
  {
   "cell_type": "code",
   "execution_count": null,
   "metadata": {},
   "outputs": [],
   "source": [
    "#creating one-dim. array from multi-dim. array\n",
    "\n",
    "r=p.flatten()\n",
    "print r"
   ]
  },
  {
   "cell_type": "code",
   "execution_count": null,
   "metadata": {},
   "outputs": [],
   "source": [
    "x=np.array([[1,2],[3,4]],float)\n",
    "y=np.array([[5,6],[7,8]],float)\n",
    "print x\n",
    "print y"
   ]
  },
  {
   "cell_type": "code",
   "execution_count": null,
   "metadata": {},
   "outputs": [],
   "source": [
    "x"
   ]
  },
  {
   "cell_type": "code",
   "execution_count": null,
   "metadata": {},
   "outputs": [],
   "source": [
    "#in concatenation by default axis=0  row-wise\n",
    "p=np.concatenate((x,y))\n",
    "print p\n",
    "print p.shape\n",
    "#print p.T\n"
   ]
  },
  {
   "cell_type": "code",
   "execution_count": null,
   "metadata": {},
   "outputs": [],
   "source": [
    "p= np.concatenate((x,y),axis=1)"
   ]
  },
  {
   "cell_type": "code",
   "execution_count": null,
   "metadata": {},
   "outputs": [],
   "source": [
    "#other ways to create an array\n",
    "\n",
    "#arange() returns an array\n",
    "\n",
    "t=np.arange(10)\n",
    "print t\n",
    "#t=t.astype(int)\n",
    "#print t\n",
    "print np.arange(1,7,2)\n",
    "\n"
   ]
  },
  {
   "cell_type": "code",
   "execution_count": null,
   "metadata": {},
   "outputs": [],
   "source": [
    "# zeros and ones create array\n",
    "\n",
    "print np.ones(3,dtype=int)\n",
    "print np.ones((2,2))"
   ]
  },
  {
   "cell_type": "code",
   "execution_count": null,
   "metadata": {},
   "outputs": [],
   "source": [
    "print np.zeros((3,3))"
   ]
  },
  {
   "cell_type": "code",
   "execution_count": null,
   "metadata": {},
   "outputs": [],
   "source": []
  },
  {
   "cell_type": "code",
   "execution_count": null,
   "metadata": {},
   "outputs": [],
   "source": [
    "#The zeros_like and ones_like\n",
    "#functions create a new array with the same dimensions\n",
    "#type of existing one\n",
    "\n",
    "n=np.array([1,2,3,4]).reshape(2,2)\n",
    "print np.zeros_like(n)\n",
    "print np.ones_like(n.reshape(2,2))"
   ]
  },
  {
   "cell_type": "code",
   "execution_count": null,
   "metadata": {},
   "outputs": [],
   "source": [
    "# to create an identity matrix(2D array)\n",
    "print np.identity(4,dtype=float)"
   ]
  },
  {
   "cell_type": "code",
   "execution_count": null,
   "metadata": {},
   "outputs": [],
   "source": [
    "c=np.empty((2,2))\n",
    "c"
   ]
  },
  {
   "cell_type": "code",
   "execution_count": null,
   "metadata": {},
   "outputs": [],
   "source": [
    "#c[:,:]=np.arange(4).reshape(2,2)\n",
    "c[:2,:2]=[[2,3],[4,5]] #assigning new values to a empty array\n",
    "c"
   ]
  },
  {
   "cell_type": "code",
   "execution_count": null,
   "metadata": {},
   "outputs": [],
   "source": [
    "m=np.arange(6)\n",
    "m.reshape(1,-1)\n",
    "print m.reshape(-1,1)\n",
    "#m"
   ]
  },
  {
   "cell_type": "code",
   "execution_count": null,
   "metadata": {},
   "outputs": [],
   "source": [
    "m=np.arange(6)\n",
    "#reshape(1,-1)\n",
    "m.reshape(-1,1)\n",
    "\n",
    "\n",
    "m=np.arange(0,40,10)\n",
    "print m.shape,m\n",
    "p=m.reshape((4,1))\n",
    "print p.shape\n",
    "p.ndim\n",
    "m=m[:,np.newaxis]\n",
    "print m\n",
    "\n",
    "#m.ndim\n",
    "#m.reshape(-1,1)\n",
    "#m.reshape(1,-1)\n",
    "k=m.reshape(2,2)"
   ]
  },
  {
   "cell_type": "code",
   "execution_count": null,
   "metadata": {},
   "outputs": [],
   "source": [
    "n=np.array(range(6)).reshape(2,3)\n",
    "print n\n",
    "#np.insert(n,1,[6,9,7],axis=0)\n",
    "#print np.identity(4)\n",
    "np.where(n>3)\n",
    "n[n>3]"
   ]
  },
  {
   "cell_type": "code",
   "execution_count": null,
   "metadata": {},
   "outputs": [],
   "source": [
    "print n"
   ]
  },
  {
   "cell_type": "code",
   "execution_count": null,
   "metadata": {},
   "outputs": [],
   "source": [
    "#Array 1-D\n",
    "import numpy as np\n",
    "a=np.array([0,1,2,3])\n",
    "print a.ndim\n",
    "print a.shape"
   ]
  },
  {
   "cell_type": "code",
   "execution_count": null,
   "metadata": {},
   "outputs": [],
   "source": [
    "#2-D\n",
    "b=np.array([[0,1,2],[3,4,5]])\n",
    "print b\n",
    "print b.ndim\n",
    "print b.shape"
   ]
  },
  {
   "cell_type": "code",
   "execution_count": null,
   "metadata": {},
   "outputs": [],
   "source": [
    "c=np.linspace(0,1,5)\n",
    "#start,end,num-points\n",
    "#including start and end\n",
    "print c"
   ]
  },
  {
   "cell_type": "code",
   "execution_count": null,
   "metadata": {},
   "outputs": [],
   "source": []
  },
  {
   "cell_type": "code",
   "execution_count": null,
   "metadata": {},
   "outputs": [],
   "source": [
    "c1=np.linspace(0,1,5)\n",
    "print c1"
   ]
  },
  {
   "cell_type": "markdown",
   "metadata": {},
   "source": [
    "### Return an array with ones on the diagonal and zeros elsewhere."
   ]
  },
  {
   "cell_type": "code",
   "execution_count": null,
   "metadata": {},
   "outputs": [],
   "source": [
    "#Return an array with ones on the diagonal and zeros elsewhere.\n",
    "n1=np.eye(3,k=2)  # no of rows 3\n",
    "#print n1\n",
    "x=np.array([1,2,3,4])\n",
    "d=np.diag(x)\n",
    "print d"
   ]
  },
  {
   "cell_type": "code",
   "execution_count": null,
   "metadata": {},
   "outputs": [],
   "source": [
    "p=np.diag(d)\n",
    "print p,type(p)"
   ]
  },
  {
   "cell_type": "code",
   "execution_count": null,
   "metadata": {},
   "outputs": [],
   "source": [
    "#random numbers\n",
    "r=np.random.randint(1,4,size=(2,2))\n",
    "print r"
   ]
  },
  {
   "cell_type": "code",
   "execution_count": null,
   "metadata": {},
   "outputs": [],
   "source": [
    "#reshape\n",
    "#resize\n",
    "#np.vstack\n",
    "#np.hstack\n",
    "#np.asarray"
   ]
  },
  {
   "cell_type": "code",
   "execution_count": null,
   "metadata": {},
   "outputs": [],
   "source": [
    "#Random values in a given shape.\n",
    "r=np.random.rand(4,2)\n",
    "print r"
   ]
  },
  {
   "cell_type": "code",
   "execution_count": null,
   "metadata": {},
   "outputs": [],
   "source": [
    "#resizing\n",
    "\n",
    "s=np.arange(4)\n",
    "print s\n",
    "\n",
    "print s.reshape(2,2)\n",
    "print s\n",
    "#cannot resize an array that has been referenced\n",
    "#s1=s\n",
    "s.resize(3,3)\n",
    "print s\n"
   ]
  }
 ],
 "metadata": {
  "kernelspec": {
   "display_name": "Python 2",
   "language": "python",
   "name": "python2"
  },
  "language_info": {
   "codemirror_mode": {
    "name": "ipython",
    "version": 2
   },
   "file_extension": ".py",
   "mimetype": "text/x-python",
   "name": "python",
   "nbconvert_exporter": "python",
   "pygments_lexer": "ipython2",
   "version": "2.7.15"
  }
 },
 "nbformat": 4,
 "nbformat_minor": 2
}
